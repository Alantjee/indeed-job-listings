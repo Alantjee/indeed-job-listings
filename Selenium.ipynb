{
 "cells": [
  {
   "cell_type": "markdown",
   "metadata": {},
   "source": [
    "## Code snippets from requests scraper:"
   ]
  },
  {
   "cell_type": "code",
   "execution_count": 1,
   "metadata": {},
   "outputs": [],
   "source": [
    "template = 'https://nl.indeed.com/jobs?q={}&l={}'"
   ]
  },
  {
   "cell_type": "code",
   "execution_count": 2,
   "metadata": {},
   "outputs": [],
   "source": [
    "def get_url(position, location):\n",
    "    \"\"\"Generate a url from position and location\"\"\"\n",
    "    template = 'https://nl.indeed.com/jobs?q={}&l={}'\n",
    "    url = template.format(position, location)\n",
    "    return url"
   ]
  },
  {
   "cell_type": "code",
   "execution_count": 3,
   "metadata": {},
   "outputs": [],
   "source": [
    "url = get_url('data analist', 'Nederland')"
   ]
  },
  {
   "cell_type": "markdown",
   "metadata": {},
   "source": [
    "## New code snippets:"
   ]
  },
  {
   "cell_type": "code",
   "execution_count": 4,
   "metadata": {},
   "outputs": [],
   "source": [
    "# import packages\n",
    "from selenium import webdriver\n",
    "import time"
   ]
  },
  {
   "cell_type": "code",
   "execution_count": 5,
   "metadata": {},
   "outputs": [],
   "source": [
    "# create driver object\n",
    "driver = webdriver.Chrome('/usr/local/bin/chromedriver')"
   ]
  },
  {
   "cell_type": "code",
   "execution_count": 6,
   "metadata": {},
   "outputs": [],
   "source": [
    "from bs4 import BeautifulSoup\n",
    "res = driver.page_source.encode('utf-8')\n",
    "soup = BeautifulSoup(res, \"html.parser\")"
   ]
  },
  {
   "cell_type": "code",
   "execution_count": 8,
   "metadata": {},
   "outputs": [
    {
     "data": {
      "text/plain": [
       "[<selenium.webdriver.remote.webelement.WebElement (session=\"7722ef48a881ab02a7d0100de221b770\", element=\"e691b9e1-61e7-4ad0-8927-2e821a357d55\")>,\n",
       " <selenium.webdriver.remote.webelement.WebElement (session=\"7722ef48a881ab02a7d0100de221b770\", element=\"9ff12eb5-9dfb-425b-a279-5e75cfe74259\")>,\n",
       " <selenium.webdriver.remote.webelement.WebElement (session=\"7722ef48a881ab02a7d0100de221b770\", element=\"f583e82f-4c5f-439f-af16-a16ca0e4f566\")>,\n",
       " <selenium.webdriver.remote.webelement.WebElement (session=\"7722ef48a881ab02a7d0100de221b770\", element=\"24936f16-5736-4b0b-a32a-9e4071e5b8f5\")>,\n",
       " <selenium.webdriver.remote.webelement.WebElement (session=\"7722ef48a881ab02a7d0100de221b770\", element=\"a54fef6d-273e-4e19-bb7a-5cee9a26962d\")>,\n",
       " <selenium.webdriver.remote.webelement.WebElement (session=\"7722ef48a881ab02a7d0100de221b770\", element=\"a43a74e1-24c4-46c1-a06a-1d9e4f8fb8ab\")>,\n",
       " <selenium.webdriver.remote.webelement.WebElement (session=\"7722ef48a881ab02a7d0100de221b770\", element=\"51e41137-405d-43af-bbeb-464da1c81c25\")>,\n",
       " <selenium.webdriver.remote.webelement.WebElement (session=\"7722ef48a881ab02a7d0100de221b770\", element=\"c4591577-1460-46fc-babe-2f904d87a6b8\")>,\n",
       " <selenium.webdriver.remote.webelement.WebElement (session=\"7722ef48a881ab02a7d0100de221b770\", element=\"7d296c7b-04a8-4df1-8c29-ecc5b09d7f8d\")>,\n",
       " <selenium.webdriver.remote.webelement.WebElement (session=\"7722ef48a881ab02a7d0100de221b770\", element=\"d8425c00-2de9-4e7b-b005-fba6a89e8396\")>,\n",
       " <selenium.webdriver.remote.webelement.WebElement (session=\"7722ef48a881ab02a7d0100de221b770\", element=\"99f99cf8-7702-4ea5-9542-90784e4257dc\")>,\n",
       " <selenium.webdriver.remote.webelement.WebElement (session=\"7722ef48a881ab02a7d0100de221b770\", element=\"67b793db-6974-4307-ba01-cd1edc819eb5\")>,\n",
       " <selenium.webdriver.remote.webelement.WebElement (session=\"7722ef48a881ab02a7d0100de221b770\", element=\"dd263fae-d4e0-49de-85b7-18d65c00672d\")>,\n",
       " <selenium.webdriver.remote.webelement.WebElement (session=\"7722ef48a881ab02a7d0100de221b770\", element=\"f2794a85-68d7-420c-b10c-174918b1ef9e\")>,\n",
       " <selenium.webdriver.remote.webelement.WebElement (session=\"7722ef48a881ab02a7d0100de221b770\", element=\"82239794-be3e-41a6-a35a-3e5a0ca195a2\")>]"
      ]
     },
     "execution_count": 8,
     "metadata": {},
     "output_type": "execute_result"
    }
   ],
   "source": [
    "# asses webpage\n",
    "driver.get(url)\n",
    "\n",
    "# store job card links in list\n",
    "jobs = driver.find_elements_by_class_name('jobsearch-SerpJobCard')\n",
    "jobs"
   ]
  },
  {
   "cell_type": "code",
   "execution_count": 10,
   "metadata": {},
   "outputs": [],
   "source": [
    "descriptions = []\n",
    "\n",
    "for job in jobs:\n",
    "    job.click()\n",
    "    time.sleep(1)\n",
    "    \n",
    "    #desc = driver.find_element_by_id('vjs-desc').text\n",
    "    #descriptions.append(desc)\n",
    "    # get job descriptions, no clue how\n",
    "    #description = job.soup.find(class_=\"summary\").text.strip()\n",
    "    #descriptions.append(description)\n",
    "    \n",
    "    # go to next page\n",
    "    "
   ]
  },
  {
   "cell_type": "code",
   "execution_count": 17,
   "metadata": {},
   "outputs": [
    {
     "data": {
      "text/plain": [
       "[[], [], [], [], [], [], [], [], [], [], [], [], [], [], []]"
      ]
     },
     "execution_count": 17,
     "metadata": {},
     "output_type": "execute_result"
    }
   ],
   "source": [
    "# check\n",
    "descriptions"
   ]
  },
  {
   "cell_type": "markdown",
   "metadata": {},
   "source": [
    "## TO DO:\n",
    "\n",
    "- Cookies?"
   ]
  },
  {
   "cell_type": "code",
   "execution_count": 30,
   "metadata": {},
   "outputs": [],
   "source": [
    "job_desc = driver.find_element_by_id('vjs-desc').text"
   ]
  },
  {
   "cell_type": "code",
   "execution_count": 31,
   "metadata": {},
   "outputs": [
    {
     "data": {
      "text/plain": [
       "'DATA - RESEARCH ANALYST | Rotterdam | 40 uur per week | €2222 - € 3478\\nUSP zoekt GEEN schaap met 5 poten!\\nWij zijn op zoek naar starters voor de functie Research Analyst.\\nWat verwachten we van jou?\\n- HBO/WO werk- en denkniveau\\n- Ervaring met SPSS en Microsoft Office\\n- Affiniteit met marktonderzoek\\n- Doorzettingsvermogen, analytisch inzicht, stressbestendigheid\\nWat doet een Research Analyst in 40 uur bij USP?\\n· 12 uur programmeren\\n· 8 uur analyseren\\n· 8 uur rapporteren\\n· 6 uur veldwerk monitoren\\n· 4 uur intern overleggen\\n· 2 uur klantbezoeken\\nWat mag jij van USP verwachten?\\nVan USP mag je verwachten dat je de kans krijgt om veel te leren en je door te ontwikkelen.\\nUSP is een fullservice marktonderzoeksbureau dat gespecialiseerd is in de bouw- en woonwereld. Een bedrijf dat trots is op de Rotterdamse mentaliteit, want USP’ers zijn doorpakkers! Dit leidt ook tot de nodige successen in het buitenland, 70% van de omzet is afkomstig van grote internationaal erkende merken.\\nBij USP heb je zelf je carrière in de hand, dus als jij ons laat zien wat jouw ambities zijn geven wij jou de kans om deze waar te maken.\\nSoort dienstverband: Fulltime, Onbepaalde tijd\\nSalaris: Vanaf €2.222,00 per maand\\nOpleiding:\\nMaster (Vereist)\\nLocatie:\\nRotterdam (Aanbevolen)\\nTaal:\\nNederlands (Vereist)\\nThuiswerken:\\nNee'"
      ]
     },
     "execution_count": 31,
     "metadata": {},
     "output_type": "execute_result"
    }
   ],
   "source": [
    "job_desc"
   ]
  }
 ],
 "metadata": {
  "kernelspec": {
   "display_name": "Python 3",
   "language": "python",
   "name": "python3"
  },
  "language_info": {
   "codemirror_mode": {
    "name": "ipython",
    "version": 3
   },
   "file_extension": ".py",
   "mimetype": "text/x-python",
   "name": "python",
   "nbconvert_exporter": "python",
   "pygments_lexer": "ipython3",
   "version": "3.8.3"
  }
 },
 "nbformat": 4,
 "nbformat_minor": 4
}

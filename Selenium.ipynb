{
 "cells": [
  {
   "cell_type": "markdown",
   "metadata": {},
   "source": [
    "# Indeed.com scraping with Selenium"
   ]
  },
  {
   "cell_type": "code",
   "execution_count": 53,
   "metadata": {},
   "outputs": [],
   "source": [
    "#import packages\n",
    "import requests\n",
    "from bs4 import BeautifulSoup\n",
    "from datetime import datetime\n",
    "import pandas as pd\n",
    "from selenium import webdriver\n",
    "import time\n",
    "from datetime import datetime"
   ]
  },
  {
   "cell_type": "markdown",
   "metadata": {},
   "source": [
    "- Delete the job title and location in the url and replace it with curly braces. Create a base_url that you'll use to create whatever job position or location that you want."
   ]
  },
  {
   "cell_type": "code",
   "execution_count": 55,
   "metadata": {},
   "outputs": [],
   "source": [
    "base_url = 'https://nl.indeed.com/jobs?q={}&l={}&start='"
   ]
  },
  {
   "cell_type": "markdown",
   "metadata": {},
   "source": [
    "- Create a function called get_url, with the arguments of position and location. Then move the base_url variable inside this function."
   ]
  },
  {
   "cell_type": "code",
   "execution_count": 56,
   "metadata": {},
   "outputs": [],
   "source": [
    "def get_url(position, location):\n",
    "    \"\"\"Generate a url from position and location\"\"\"\n",
    "    base_url = 'https://nl.indeed.com/jobs?q={}&l={}&start='\n",
    "    url = base_url.format(position, location)\n",
    "    return url"
   ]
  },
  {
   "cell_type": "code",
   "execution_count": 57,
   "metadata": {},
   "outputs": [],
   "source": [
    "url = get_url('data analist', 'Nederland')"
   ]
  },
  {
   "cell_type": "code",
   "execution_count": 59,
   "metadata": {},
   "outputs": [
    {
     "data": {
      "text/plain": [
       "'https://nl.indeed.com/jobs?q=data analist&l=Nederland&start='"
      ]
     },
     "execution_count": 59,
     "metadata": {},
     "output_type": "execute_result"
    }
   ],
   "source": [
    "url"
   ]
  },
  {
   "cell_type": "code",
   "execution_count": 60,
   "metadata": {},
   "outputs": [],
   "source": [
    "# create driver object\n",
    "driver = webdriver.Chrome()\n",
    "time.sleep(10)"
   ]
  },
  {
   "cell_type": "markdown",
   "metadata": {},
   "source": [
    "### Access the site programmatically"
   ]
  },
  {
   "cell_type": "markdown",
   "metadata": {},
   "source": [
    "- Tell the browser to visit the indeed page. Call the driver object created above and use the get method; pass the URL of the website you'd like to extract."
   ]
  },
  {
   "cell_type": "code",
   "execution_count": 61,
   "metadata": {},
   "outputs": [],
   "source": [
    "# asses webpage\n",
    "driver.get(url)"
   ]
  },
  {
   "cell_type": "markdown",
   "metadata": {},
   "source": [
    "- Accept cookies, if applicable."
   ]
  },
  {
   "cell_type": "code",
   "execution_count": 62,
   "metadata": {},
   "outputs": [],
   "source": [
    "try:\n",
    "    driver.find_element_by_id('onetrust-accept-btn-handler').click()\n",
    "    time.sleep(2)\n",
    "except:\n",
    "    print('probably accepted the cookie already!')"
   ]
  },
  {
   "cell_type": "markdown",
   "metadata": {},
   "source": [
    "- Use BeautifulSoup; create the res object from the driver object."
   ]
  },
  {
   "cell_type": "code",
   "execution_count": 63,
   "metadata": {},
   "outputs": [],
   "source": [
    "res = driver.page_source.encode('utf-8')\n",
    "soup = BeautifulSoup(res, \"html.parser\")"
   ]
  },
  {
   "cell_type": "code",
   "execution_count": 64,
   "metadata": {},
   "outputs": [
    {
     "data": {
      "text/plain": [
       "[<selenium.webdriver.remote.webelement.WebElement (session=\"a515bb6b450de5b70aa46c1ac3eb487e\", element=\"0.31923624151550656-2\")>,\n",
       " <selenium.webdriver.remote.webelement.WebElement (session=\"a515bb6b450de5b70aa46c1ac3eb487e\", element=\"0.31923624151550656-3\")>,\n",
       " <selenium.webdriver.remote.webelement.WebElement (session=\"a515bb6b450de5b70aa46c1ac3eb487e\", element=\"0.31923624151550656-4\")>,\n",
       " <selenium.webdriver.remote.webelement.WebElement (session=\"a515bb6b450de5b70aa46c1ac3eb487e\", element=\"0.31923624151550656-5\")>,\n",
       " <selenium.webdriver.remote.webelement.WebElement (session=\"a515bb6b450de5b70aa46c1ac3eb487e\", element=\"0.31923624151550656-6\")>,\n",
       " <selenium.webdriver.remote.webelement.WebElement (session=\"a515bb6b450de5b70aa46c1ac3eb487e\", element=\"0.31923624151550656-7\")>,\n",
       " <selenium.webdriver.remote.webelement.WebElement (session=\"a515bb6b450de5b70aa46c1ac3eb487e\", element=\"0.31923624151550656-8\")>,\n",
       " <selenium.webdriver.remote.webelement.WebElement (session=\"a515bb6b450de5b70aa46c1ac3eb487e\", element=\"0.31923624151550656-9\")>,\n",
       " <selenium.webdriver.remote.webelement.WebElement (session=\"a515bb6b450de5b70aa46c1ac3eb487e\", element=\"0.31923624151550656-10\")>,\n",
       " <selenium.webdriver.remote.webelement.WebElement (session=\"a515bb6b450de5b70aa46c1ac3eb487e\", element=\"0.31923624151550656-11\")>,\n",
       " <selenium.webdriver.remote.webelement.WebElement (session=\"a515bb6b450de5b70aa46c1ac3eb487e\", element=\"0.31923624151550656-12\")>,\n",
       " <selenium.webdriver.remote.webelement.WebElement (session=\"a515bb6b450de5b70aa46c1ac3eb487e\", element=\"0.31923624151550656-13\")>,\n",
       " <selenium.webdriver.remote.webelement.WebElement (session=\"a515bb6b450de5b70aa46c1ac3eb487e\", element=\"0.31923624151550656-14\")>,\n",
       " <selenium.webdriver.remote.webelement.WebElement (session=\"a515bb6b450de5b70aa46c1ac3eb487e\", element=\"0.31923624151550656-15\")>,\n",
       " <selenium.webdriver.remote.webelement.WebElement (session=\"a515bb6b450de5b70aa46c1ac3eb487e\", element=\"0.31923624151550656-16\")>]"
      ]
     },
     "execution_count": 64,
     "metadata": {},
     "output_type": "execute_result"
    }
   ],
   "source": [
    "# store job card links in list\n",
    "jobs = driver.find_elements_by_class_name('jobsearch-SerpJobCard')\n",
    "#check\n",
    "jobs"
   ]
  },
  {
   "cell_type": "markdown",
   "metadata": {},
   "source": [
    "## Loop through the pages and collect the ids from the current page"
   ]
  },
  {
   "cell_type": "code",
   "execution_count": 157,
   "metadata": {},
   "outputs": [],
   "source": [
    "jobids = []\n",
    "\n",
    "# loop through the pages\n",
    "for i in range(0,800,10):\n",
    "    driver.get(url+str(i))\n",
    "    time.sleep(6)\n",
    "    jobs = driver.find_elements_by_class_name('jobsearch-SerpJobCard')\n",
    "    \n",
    "    # collect ids from current page\n",
    "    for job in jobs:\n",
    "        jobid = job.get_attribute('data-jk')\n",
    "        jobids.append(jobid)"
   ]
  },
  {
   "cell_type": "code",
   "execution_count": 158,
   "metadata": {},
   "outputs": [
    {
     "data": {
      "text/plain": [
       "['a9749dd1260d0ccc',\n",
       " '45f4c626b11ee6dd',\n",
       " '5c387427784186c2',\n",
       " '7f8fe03c5484706b',\n",
       " '8f24ece2c83af849',\n",
       " '2b6766d1d03caa6c',\n",
       " '275eaed96278f6a1',\n",
       " '259778b2faa5e0af',\n",
       " 'fea9b49357181e96',\n",
       " '9b8b8e70f8af0681',\n",
       " '6f88c3b37ffc3fad',\n",
       " '5595e58ddc3344ca',\n",
       " '42d2dbc0740f816f',\n",
       " '07b0178cd8c65029',\n",
       " '83cd6f19ccc27967',\n",
       " '83cd6f19ccc27967',\n",
       " 'f20e3fbd9eef4ad7',\n",
       " '9e7363bfa414ca82',\n",
       " '9237811ad0473c04',\n",
       " '009180d11b2d5df0']"
      ]
     },
     "execution_count": 158,
     "metadata": {},
     "output_type": "execute_result"
    }
   ],
   "source": [
    "#check\n",
    "jobids[:20]"
   ]
  },
  {
   "cell_type": "markdown",
   "metadata": {},
   "source": [
    "### Get the job title"
   ]
  },
  {
   "cell_type": "code",
   "execution_count": 84,
   "metadata": {},
   "outputs": [
    {
     "data": {
      "text/plain": [
       "'Data Analist'"
      ]
     },
     "execution_count": 84,
     "metadata": {},
     "output_type": "execute_result"
    }
   ],
   "source": [
    "driver.get('https://nl.indeed.com/vacature-bekijken?jk=024641b602f7096c')\n",
    "time.sleep(5)\n",
    "title = driver.find_element_by_class_name('jobsearch-JobInfoHeader-title').text\n",
    "#check\n",
    "title"
   ]
  },
  {
   "cell_type": "markdown",
   "metadata": {},
   "source": [
    "### Get the job company"
   ]
  },
  {
   "cell_type": "code",
   "execution_count": 85,
   "metadata": {},
   "outputs": [
    {
     "data": {
      "text/plain": [
       "'Aon'"
      ]
     },
     "execution_count": 85,
     "metadata": {},
     "output_type": "execute_result"
    }
   ],
   "source": [
    "driver.get('https://nl.indeed.com/vacature-bekijken?jk=024641b602f7096c')\n",
    "time.sleep(5)\n",
    "company = driver.find_element_by_class_name('jobsearch-InlineCompanyRating').text\n",
    "#check\n",
    "company"
   ]
  },
  {
   "cell_type": "markdown",
   "metadata": {},
   "source": [
    "### Get the job salary"
   ]
  },
  {
   "cell_type": "code",
   "execution_count": 90,
   "metadata": {},
   "outputs": [
    {
     "data": {
      "text/plain": [
       "'€2.600 - €3.500 per maand'"
      ]
     },
     "execution_count": 90,
     "metadata": {},
     "output_type": "execute_result"
    }
   ],
   "source": [
    "driver.get('https://nl.indeed.com/vacature-bekijken?jk=024641b602f7096c')\n",
    "time.sleep(5)\n",
    "try:\n",
    "    salary = driver.find_element_by_class_name('jobsearch-JobMetadataHeader-item').text\n",
    "except:\n",
    "    salary = \"\"\n",
    "#check\n",
    "salary"
   ]
  },
  {
   "cell_type": "markdown",
   "metadata": {},
   "source": [
    "### Get the job location"
   ]
  },
  {
   "cell_type": "code",
   "execution_count": 114,
   "metadata": {},
   "outputs": [
    {
     "data": {
      "text/plain": [
       "'Postcode 5651 in Eindhoven'"
      ]
     },
     "execution_count": 114,
     "metadata": {},
     "output_type": "execute_result"
    }
   ],
   "source": [
    "driver.get('https://nl.indeed.com/vacature-bekijken?jk=024641b602f7096c')\n",
    "time.sleep(5)\n",
    "location = driver.find_element_by_class_name('jobsearch-DesktopStickyContainer-subtitle').text.splitlines()[1]\n",
    "#check\n",
    "location"
   ]
  },
  {
   "cell_type": "markdown",
   "metadata": {},
   "source": [
    "### Get the job company review"
   ]
  },
  {
   "cell_type": "code",
   "execution_count": 100,
   "metadata": {},
   "outputs": [
    {
     "data": {
      "text/plain": [
       "'Aon 4,610 reviews Lees wat andere gebruikers over dit bedrijf te zeggen hebben.'"
      ]
     },
     "execution_count": 100,
     "metadata": {},
     "output_type": "execute_result"
    }
   ],
   "source": [
    "driver.get('https://nl.indeed.com/vacature-bekijken?jk=024641b602f7096c')\n",
    "time.sleep(5)\n",
    "companyreview = driver.find_element_by_class_name('jobsearch-CompanyReview').text.replace('\\n',' ')\n",
    "#check\n",
    "companyreview"
   ]
  },
  {
   "cell_type": "markdown",
   "metadata": {},
   "source": [
    "### Get the job description"
   ]
  },
  {
   "cell_type": "code",
   "execution_count": 118,
   "metadata": {},
   "outputs": [
    {
     "data": {
      "text/plain": [
       "'Over deze vacature In het kort Ben je analytisch sterk en altijd op zoek naar mogelijkheden om te helpen bij het verwezenlijken van bedrijfsdoelstellingen? Wil jij continu het beste halen uit data en met het team om tafel voor de beste strategie? Dan is de functie van Data Analist zeker iets voor jou! Jij brengt mee Minimaal hbo werk- en denkniveau Sterke affiniteit met processen en IT Grote mate van zelfstandigheid en daadkracht Je vindt bij ons Vaste 13e maand Bonusregeling Premievrij pensioen Tom von Wolzogen Kühr Recruiter 06 22581665  tom.von.wolzogen.kuhr@aon.com  linkedin.com/in/tomvonwolzogenkühr Wat ga je doen? Met de toenemende groei van data is de behoefte naar goede informatie en het gebruik en interpreteren daarvan explosief gestegen. Data is dan ook één van de internationale pijlers binnen Aon. Als Data Analist krijg je de ruimte om te pionieren. Je geeft proactief inzicht in het gedrag van onze klanten, identificeer en kwantificeer je risico’s, signaleer je trends en ontwikkelingen en help je mee aan de transformatie naar meer datagedreven advies. Als Data Analist draag je bij aan het realiseren van de afdelings- en bedrijfsdoelstellingen. Je draagt bij door jouw specifieke kennis en ervaring in te brengen en door kennis te delen met het team. Taken en verantwoordelijkheden Verbeteren van de datakwaliteit, toevoegen van ontbrekende datasets Beheer, doorontwikkeling en uitvoering van huidige set aan verantwoordings- en maatwerkrapportages Uitvoeren van analyses aan de hand van data, referentie-onderzoeken, gesprekken en collegiale reviews Verzamelen van data uit zowel interne als externe bronnen (UWV, CPB, CBS) Analyses omzetten naar conclusies, consequenties, plannen en modellen Opstellen van business casussen en adviezen Creëren van heldere rapportages en dashboards Afstemming met de leverancier voor testen van releases Zo ziet jouw dag eruit Doorvoeren van serviceverbeteringen 60% Prioriteren en beheren van de backlog 20% Verwachtingen managen van partners 10% Beantwoorden van vragen uit het team 10% Waar kom je te werken?  Ons Team De afdeling Digital bestaat uit 12 personen die zich bezig houden met het steeds verder digitaliseren van de zorgketen. In het bijzonder stellen wij het bedrijf in staat om zoveel mogelijk transacties met klanten en partners zo geautomatiseerd mogelijk af te handelen. Op de afdeling werken Product Owners, Data analisten, Project Managers, Consultants, Change & Release Manager, Test Coordinator en Business Process Experts. Veel van onze mensen hebben een IT achtergrond en we onderhouden daarnaast nauwe banden met IT. Aon Nederland Wij zijn de toonaangevende wereldwijde dienstverlener op het gebied van risk, retirement en health. We analyseren risico’s, geven advies, zorgen voor de (financiële) oplossing en staan klanten bij als bij een incident de bedrijfscontinuïteit wordt bedreigd. Zo helpen wij klanten succesvol te ondernemen. We hebben de unieke kans om de absolute topspeler in Nederland te zijn. Met onze historie, kennis van inhoud en markten en bundeling van krachten zetten we een organisatie neer, die gaat voor resultaten behalen, pro actief helpen en ondersteunen en kansen creëren en benutten, zowel voor onze klanten als voor onszelf. In Nederland heeft Aon 14 locaties met 2.500 medewerkers.  Aon Wereldwijd Het bedrijf maakt deel uit van Aon plc in Londen, Verenigd Koninkrijk. Het wereldwijde Aon-netwerk omvat circa 500 kantoren in meer dan 120 landen en telt ruim 50.000 medewerkers. Hiermee is Aon een van de grotere financiële dienstverleners ter wereld. Aon plc is gespecialiseerd in financiële en verzekeringsdienstverlening en staat genoteerd aan de effectenbeurs van New York (NYSE : AON). Wat neem je mee? Minimaal een hbo diploma Aantoonbare ervaring met statistische analyses Kennis van of affiniteit met zorgverzekering of andere financiële diensten In staat tot het vertalen van data naar business inzichten, zelfstandig of met behulp van ervaren collega’s Creativiteit en doorzettingsvermogen Kennis van SQL en/of PL/SQL, Datawarehouse, Datamarts en ETL Pré: kennis Oracle Health Insurance Back Office en Data Marts Wat bieden wij jou? Een zelfstandige en dynamische baan met volop ruimte en mogelijkheden om je verder te ontwikkelen. Je krijgt de kans om samen met ons te werken aan de verbetering van onze zorgketen om zo groei te realiseren. Hierbij bieden wij een uitstekend pakket aan arbeidsvoorwaarden, waaronder: Vaste 13e maand Bonusregeling Premievrij pensioen 29 vakantiedagen met optie om meer bij te kopen 8% vakantietoeslag Reiskostenvergoeding Collectieve ziektekostenverzekering Korting op aantal andere verzekeringen Laptop'"
      ]
     },
     "execution_count": 118,
     "metadata": {},
     "output_type": "execute_result"
    }
   ],
   "source": [
    "driver.get('https://nl.indeed.com/vacature-bekijken?jk=024641b602f7096c')\n",
    "time.sleep(5)\n",
    "description = driver.find_element_by_id('jobDescriptionText').text.replace('\\n',' ')\n",
    "#check\n",
    "description"
   ]
  },
  {
   "cell_type": "markdown",
   "metadata": {},
   "source": [
    "### Get the job posting date"
   ]
  },
  {
   "cell_type": "code",
   "execution_count": 122,
   "metadata": {},
   "outputs": [
    {
     "data": {
      "text/plain": [
       "'30+ dagen geleden'"
      ]
     },
     "execution_count": 122,
     "metadata": {},
     "output_type": "execute_result"
    }
   ],
   "source": [
    "driver.get('https://nl.indeed.com/vacature-bekijken?jk=024641b602f7096c')\n",
    "time.sleep(5)\n",
    "postingdate = driver.find_element_by_class_name('jobsearch-JobMetadataFooter').text.splitlines()[1]\n",
    "#check\n",
    "postingdate"
   ]
  },
  {
   "cell_type": "markdown",
   "metadata": {},
   "source": [
    "# Putting it all together"
   ]
  },
  {
   "cell_type": "markdown",
   "metadata": {},
   "source": [
    "- Note: if it asks you at some point to prove that you're not a robot, copy the link in a new window and select the right images.\n",
    "- Tip for the the next trial: separate the ids in multiple bundles and run them separately to ensure that it doens't crush."
   ]
  },
  {
   "cell_type": "code",
   "execution_count": 159,
   "metadata": {},
   "outputs": [
    {
     "ename": "KeyboardInterrupt",
     "evalue": "",
     "output_type": "error",
     "traceback": [
      "\u001b[1;31m---------------------------------------------------------------------------\u001b[0m",
      "\u001b[1;31mKeyboardInterrupt\u001b[0m                         Traceback (most recent call last)",
      "\u001b[1;32m<ipython-input-159-169bbc1f8c24>\u001b[0m in \u001b[0;36m<module>\u001b[1;34m\u001b[0m\n\u001b[0;32m     12\u001b[0m \u001b[1;32mfor\u001b[0m \u001b[0mjobid\u001b[0m \u001b[1;32min\u001b[0m \u001b[0mjobids2\u001b[0m\u001b[1;33m:\u001b[0m\u001b[1;33m\u001b[0m\u001b[1;33m\u001b[0m\u001b[0m\n\u001b[0;32m     13\u001b[0m     \u001b[0mdriver\u001b[0m\u001b[1;33m.\u001b[0m\u001b[0mget\u001b[0m\u001b[1;33m(\u001b[0m\u001b[1;34m'https://nl.indeed.com/vacature-bekijken?jk='\u001b[0m\u001b[1;33m+\u001b[0m\u001b[0mjobid\u001b[0m\u001b[1;33m)\u001b[0m\u001b[1;33m\u001b[0m\u001b[1;33m\u001b[0m\u001b[0m\n\u001b[1;32m---> 14\u001b[1;33m     \u001b[0mtime\u001b[0m\u001b[1;33m.\u001b[0m\u001b[0msleep\u001b[0m\u001b[1;33m(\u001b[0m\u001b[1;36m5\u001b[0m\u001b[1;33m)\u001b[0m\u001b[1;33m\u001b[0m\u001b[1;33m\u001b[0m\u001b[0m\n\u001b[0m\u001b[0;32m     15\u001b[0m     \u001b[1;32mtry\u001b[0m\u001b[1;33m:\u001b[0m\u001b[1;33m\u001b[0m\u001b[1;33m\u001b[0m\u001b[0m\n\u001b[0;32m     16\u001b[0m         \u001b[0mtitles\u001b[0m\u001b[1;33m.\u001b[0m\u001b[0mappend\u001b[0m\u001b[1;33m(\u001b[0m\u001b[0mdriver\u001b[0m\u001b[1;33m.\u001b[0m\u001b[0mfind_element_by_class_name\u001b[0m\u001b[1;33m(\u001b[0m\u001b[1;34m'jobsearch-JobInfoHeader-title'\u001b[0m\u001b[1;33m)\u001b[0m\u001b[1;33m.\u001b[0m\u001b[0mtext\u001b[0m\u001b[1;33m)\u001b[0m\u001b[1;33m\u001b[0m\u001b[1;33m\u001b[0m\u001b[0m\n",
      "\u001b[1;31mKeyboardInterrupt\u001b[0m: "
     ]
    }
   ],
   "source": [
    "titles = []\n",
    "companies = []\n",
    "locations = []\n",
    "salaries = []\n",
    "postingdates = []\n",
    "companyreviews = []\n",
    "descriptions = []\n",
    "#urls = []\n",
    "\n",
    "# Use jobids2 = jobids, because you can run it for a selected segment, by setting jobids to, for example, jobids[:3] for the first 3 elements. And so, you only have to change this once, here.\n",
    "jobids2 = jobids\n",
    "\n",
    "for jobid in jobids2:\n",
    "    driver.get('https://nl.indeed.com/vacature-bekijken?jk='+jobid)\n",
    "    time.sleep(5)\n",
    "    try:\n",
    "        titles.append(driver.find_element_by_class_name('jobsearch-JobInfoHeader-title').text)\n",
    "    except:\n",
    "        titles.append('')\n",
    "    try:\n",
    "        companies.append(driver.find_element_by_class_name('jobsearch-InlineCompanyRating').text)\n",
    "    except:\n",
    "        companies.append('')\n",
    "    try:\n",
    "        locations.append(driver.find_element_by_class_name('jobsearch-DesktopStickyContainer-subtitle').text.splitlines()[1])\n",
    "    except:\n",
    "        locations.append('')\n",
    "    try:\n",
    "        salaries.append(driver.find_element_by_class_name('jobsearch-JobMetadataHeader-item').text)\n",
    "    except:\n",
    "        salaries.append('')\n",
    "    try:\n",
    "        postingdates.append(driver.find_element_by_class_name('jobsearch-JobMetadataFooter').text.splitlines()[1])\n",
    "    except:\n",
    "        postingdates.append('')\n",
    "    try:\n",
    "        companyreviews.append(driver.find_element_by_class_name('jobsearch-CompanyReview').text.replace('\\n',' '))\n",
    "    except:\n",
    "        companyreviews.append('')\n",
    "    try:\n",
    "        descriptions.append(driver.find_element_by_id('jobDescriptionText').text.replace('\\n',' '))\n",
    "    except:\n",
    "        descriptions.append('')\n",
    "    \n",
    "    #To do:\n",
    "    #urls.append(driver.find_element_by_class_name('###').text\n",
    "\n"
   ]
  },
  {
   "cell_type": "markdown",
   "metadata": {},
   "source": [
    "### Create a data frame from the above lists"
   ]
  },
  {
   "cell_type": "code",
   "execution_count": 161,
   "metadata": {},
   "outputs": [],
   "source": [
    "jobdata = pd.DataFrame(index=jobids2, data={'title':titles, 'company':companies, 'location':locations, 'salary':salaries, 'postingdate':postingdates, 'companyreview':companyreviews, 'description':descriptions})"
   ]
  },
  {
   "cell_type": "code",
   "execution_count": 162,
   "metadata": {},
   "outputs": [
    {
     "data": {
      "text/html": [
       "<div>\n",
       "<style scoped>\n",
       "    .dataframe tbody tr th:only-of-type {\n",
       "        vertical-align: middle;\n",
       "    }\n",
       "\n",
       "    .dataframe tbody tr th {\n",
       "        vertical-align: top;\n",
       "    }\n",
       "\n",
       "    .dataframe thead th {\n",
       "        text-align: right;\n",
       "    }\n",
       "</style>\n",
       "<table border=\"1\" class=\"dataframe\">\n",
       "  <thead>\n",
       "    <tr style=\"text-align: right;\">\n",
       "      <th></th>\n",
       "      <th>title</th>\n",
       "      <th>company</th>\n",
       "      <th>location</th>\n",
       "      <th>salary</th>\n",
       "      <th>postingdate</th>\n",
       "      <th>companyreview</th>\n",
       "      <th>description</th>\n",
       "    </tr>\n",
       "  </thead>\n",
       "  <tbody>\n",
       "    <tr>\n",
       "      <th>a9749dd1260d0ccc</th>\n",
       "      <td>Traineeship: Data Analist</td>\n",
       "      <td>Createment\\n24 reviews</td>\n",
       "      <td>24 reviews</td>\n",
       "      <td>€2.500 per maand - Fulltime, Stage</td>\n",
       "      <td>8 dagen geleden</td>\n",
       "      <td></td>\n",
       "      <td>Vraag jij je ook wel eens af hoe de apps op je...</td>\n",
       "    </tr>\n",
       "    <tr>\n",
       "      <th>45f4c626b11ee6dd</th>\n",
       "      <td>Data Analist</td>\n",
       "      <td>Essent\\n15 reviews</td>\n",
       "      <td>15 reviews</td>\n",
       "      <td>€3.152 - €4.902 per maand</td>\n",
       "      <td>28 dagen geleden</td>\n",
       "      <td></td>\n",
       "      <td>Bij Essent analyseert de Data Analist CX de NP...</td>\n",
       "    </tr>\n",
       "    <tr>\n",
       "      <th>5c387427784186c2</th>\n",
       "      <td>Data Analist</td>\n",
       "      <td>Shoeby\\n33 reviews</td>\n",
       "      <td>33 reviews</td>\n",
       "      <td></td>\n",
       "      <td>15 dagen geleden</td>\n",
       "      <td></td>\n",
       "      <td>Details Dienstverband Fulltime Aantal uur per ...</td>\n",
       "    </tr>\n",
       "    <tr>\n",
       "      <th>7f8fe03c5484706b</th>\n",
       "      <td>Data-Analist</td>\n",
       "      <td>Gemeente Valkenswaard\\n3 reviews</td>\n",
       "      <td>3 reviews</td>\n",
       "      <td>€4.494 per maand - Parttime</td>\n",
       "      <td>13 dagen geleden</td>\n",
       "      <td></td>\n",
       "      <td>Gemeente Valkenswaard zoekt: Een analytische e...</td>\n",
       "    </tr>\n",
       "    <tr>\n",
       "      <th>8f24ece2c83af849</th>\n",
       "      <td>Data Analist</td>\n",
       "      <td>Cegeka\\n28 reviews</td>\n",
       "      <td>28 reviews</td>\n",
       "      <td></td>\n",
       "      <td>7 dagen geleden</td>\n",
       "      <td></td>\n",
       "      <td>Als Data Analist bij Cegeka zorg jij dat data ...</td>\n",
       "    </tr>\n",
       "    <tr>\n",
       "      <th>...</th>\n",
       "      <td>...</td>\n",
       "      <td>...</td>\n",
       "      <td>...</td>\n",
       "      <td>...</td>\n",
       "      <td>...</td>\n",
       "      <td>...</td>\n",
       "      <td>...</td>\n",
       "    </tr>\n",
       "    <tr>\n",
       "      <th>5d455c047805a4aa</th>\n",
       "      <td></td>\n",
       "      <td></td>\n",
       "      <td></td>\n",
       "      <td></td>\n",
       "      <td></td>\n",
       "      <td></td>\n",
       "      <td></td>\n",
       "    </tr>\n",
       "    <tr>\n",
       "      <th>657c5e67f432c114</th>\n",
       "      <td></td>\n",
       "      <td></td>\n",
       "      <td></td>\n",
       "      <td></td>\n",
       "      <td></td>\n",
       "      <td></td>\n",
       "      <td></td>\n",
       "    </tr>\n",
       "    <tr>\n",
       "      <th>9ecf610c83ea2ccf</th>\n",
       "      <td></td>\n",
       "      <td></td>\n",
       "      <td></td>\n",
       "      <td></td>\n",
       "      <td></td>\n",
       "      <td></td>\n",
       "      <td></td>\n",
       "    </tr>\n",
       "    <tr>\n",
       "      <th>2dab296d29823bd5</th>\n",
       "      <td></td>\n",
       "      <td></td>\n",
       "      <td></td>\n",
       "      <td></td>\n",
       "      <td></td>\n",
       "      <td></td>\n",
       "      <td></td>\n",
       "    </tr>\n",
       "    <tr>\n",
       "      <th>265a398944c0b6c3</th>\n",
       "      <td></td>\n",
       "      <td></td>\n",
       "      <td></td>\n",
       "      <td></td>\n",
       "      <td></td>\n",
       "      <td></td>\n",
       "      <td></td>\n",
       "    </tr>\n",
       "  </tbody>\n",
       "</table>\n",
       "<p>909 rows × 7 columns</p>\n",
       "</div>"
      ],
      "text/plain": [
       "                                      title                           company  \\\n",
       "a9749dd1260d0ccc  Traineeship: Data Analist            Createment\\n24 reviews   \n",
       "45f4c626b11ee6dd               Data Analist                Essent\\n15 reviews   \n",
       "5c387427784186c2               Data Analist                Shoeby\\n33 reviews   \n",
       "7f8fe03c5484706b               Data-Analist  Gemeente Valkenswaard\\n3 reviews   \n",
       "8f24ece2c83af849               Data Analist                Cegeka\\n28 reviews   \n",
       "...                                     ...                               ...   \n",
       "5d455c047805a4aa                                                                \n",
       "657c5e67f432c114                                                                \n",
       "9ecf610c83ea2ccf                                                                \n",
       "2dab296d29823bd5                                                                \n",
       "265a398944c0b6c3                                                                \n",
       "\n",
       "                    location                              salary  \\\n",
       "a9749dd1260d0ccc  24 reviews  €2.500 per maand - Fulltime, Stage   \n",
       "45f4c626b11ee6dd  15 reviews           €3.152 - €4.902 per maand   \n",
       "5c387427784186c2  33 reviews                                       \n",
       "7f8fe03c5484706b   3 reviews         €4.494 per maand - Parttime   \n",
       "8f24ece2c83af849  28 reviews                                       \n",
       "...                      ...                                 ...   \n",
       "5d455c047805a4aa                                                   \n",
       "657c5e67f432c114                                                   \n",
       "9ecf610c83ea2ccf                                                   \n",
       "2dab296d29823bd5                                                   \n",
       "265a398944c0b6c3                                                   \n",
       "\n",
       "                       postingdate companyreview  \\\n",
       "a9749dd1260d0ccc   8 dagen geleden                 \n",
       "45f4c626b11ee6dd  28 dagen geleden                 \n",
       "5c387427784186c2  15 dagen geleden                 \n",
       "7f8fe03c5484706b  13 dagen geleden                 \n",
       "8f24ece2c83af849   7 dagen geleden                 \n",
       "...                            ...           ...   \n",
       "5d455c047805a4aa                                   \n",
       "657c5e67f432c114                                   \n",
       "9ecf610c83ea2ccf                                   \n",
       "2dab296d29823bd5                                   \n",
       "265a398944c0b6c3                                   \n",
       "\n",
       "                                                        description  \n",
       "a9749dd1260d0ccc  Vraag jij je ook wel eens af hoe de apps op je...  \n",
       "45f4c626b11ee6dd  Bij Essent analyseert de Data Analist CX de NP...  \n",
       "5c387427784186c2  Details Dienstverband Fulltime Aantal uur per ...  \n",
       "7f8fe03c5484706b  Gemeente Valkenswaard zoekt: Een analytische e...  \n",
       "8f24ece2c83af849  Als Data Analist bij Cegeka zorg jij dat data ...  \n",
       "...                                                             ...  \n",
       "5d455c047805a4aa                                                     \n",
       "657c5e67f432c114                                                     \n",
       "9ecf610c83ea2ccf                                                     \n",
       "2dab296d29823bd5                                                     \n",
       "265a398944c0b6c3                                                     \n",
       "\n",
       "[909 rows x 7 columns]"
      ]
     },
     "execution_count": 162,
     "metadata": {},
     "output_type": "execute_result"
    }
   ],
   "source": [
    "#check\n",
    "jobdata"
   ]
  },
  {
   "cell_type": "markdown",
   "metadata": {},
   "source": [
    "### Save the data frame in a csv file"
   ]
  },
  {
   "cell_type": "code",
   "execution_count": 163,
   "metadata": {},
   "outputs": [],
   "source": [
    "#save\n",
    "jobdata.to_csv('data_analist_Nl_data.csv')"
   ]
  },
  {
   "cell_type": "markdown",
   "metadata": {},
   "source": [
    "### Add the current date and time to the data set"
   ]
  },
  {
   "cell_type": "code",
   "execution_count": 167,
   "metadata": {},
   "outputs": [
    {
     "data": {
      "text/plain": [
       "'2021-03-10 20:18:19'"
      ]
     },
     "execution_count": 167,
     "metadata": {},
     "output_type": "execute_result"
    }
   ],
   "source": [
    "# datetime object containing current date and time\n",
    "now = datetime.now()\n",
    "\n",
    "dt_string = now.strftime(\"%Y-%m-%d %H:%M:%S\")\n",
    "dt_string"
   ]
  },
  {
   "cell_type": "markdown",
   "metadata": {},
   "source": [
    "### Add the current date and time as a new column"
   ]
  },
  {
   "cell_type": "code",
   "execution_count": 168,
   "metadata": {},
   "outputs": [
    {
     "data": {
      "text/html": [
       "<div>\n",
       "<style scoped>\n",
       "    .dataframe tbody tr th:only-of-type {\n",
       "        vertical-align: middle;\n",
       "    }\n",
       "\n",
       "    .dataframe tbody tr th {\n",
       "        vertical-align: top;\n",
       "    }\n",
       "\n",
       "    .dataframe thead th {\n",
       "        text-align: right;\n",
       "    }\n",
       "</style>\n",
       "<table border=\"1\" class=\"dataframe\">\n",
       "  <thead>\n",
       "    <tr style=\"text-align: right;\">\n",
       "      <th></th>\n",
       "      <th>title</th>\n",
       "      <th>company</th>\n",
       "      <th>location</th>\n",
       "      <th>salary</th>\n",
       "      <th>postingdate</th>\n",
       "      <th>companyreview</th>\n",
       "      <th>description</th>\n",
       "      <th>scrape_date</th>\n",
       "    </tr>\n",
       "  </thead>\n",
       "  <tbody>\n",
       "    <tr>\n",
       "      <th>a9749dd1260d0ccc</th>\n",
       "      <td>Traineeship: Data Analist</td>\n",
       "      <td>Createment\\n24 reviews</td>\n",
       "      <td>24 reviews</td>\n",
       "      <td>€2.500 per maand - Fulltime, Stage</td>\n",
       "      <td>8 dagen geleden</td>\n",
       "      <td></td>\n",
       "      <td>Vraag jij je ook wel eens af hoe de apps op je...</td>\n",
       "      <td>2021-03-10 20:18:19</td>\n",
       "    </tr>\n",
       "    <tr>\n",
       "      <th>45f4c626b11ee6dd</th>\n",
       "      <td>Data Analist</td>\n",
       "      <td>Essent\\n15 reviews</td>\n",
       "      <td>15 reviews</td>\n",
       "      <td>€3.152 - €4.902 per maand</td>\n",
       "      <td>28 dagen geleden</td>\n",
       "      <td></td>\n",
       "      <td>Bij Essent analyseert de Data Analist CX de NP...</td>\n",
       "      <td>2021-03-10 20:18:19</td>\n",
       "    </tr>\n",
       "    <tr>\n",
       "      <th>5c387427784186c2</th>\n",
       "      <td>Data Analist</td>\n",
       "      <td>Shoeby\\n33 reviews</td>\n",
       "      <td>33 reviews</td>\n",
       "      <td></td>\n",
       "      <td>15 dagen geleden</td>\n",
       "      <td></td>\n",
       "      <td>Details Dienstverband Fulltime Aantal uur per ...</td>\n",
       "      <td>2021-03-10 20:18:19</td>\n",
       "    </tr>\n",
       "    <tr>\n",
       "      <th>7f8fe03c5484706b</th>\n",
       "      <td>Data-Analist</td>\n",
       "      <td>Gemeente Valkenswaard\\n3 reviews</td>\n",
       "      <td>3 reviews</td>\n",
       "      <td>€4.494 per maand - Parttime</td>\n",
       "      <td>13 dagen geleden</td>\n",
       "      <td></td>\n",
       "      <td>Gemeente Valkenswaard zoekt: Een analytische e...</td>\n",
       "      <td>2021-03-10 20:18:19</td>\n",
       "    </tr>\n",
       "    <tr>\n",
       "      <th>8f24ece2c83af849</th>\n",
       "      <td>Data Analist</td>\n",
       "      <td>Cegeka\\n28 reviews</td>\n",
       "      <td>28 reviews</td>\n",
       "      <td></td>\n",
       "      <td>7 dagen geleden</td>\n",
       "      <td></td>\n",
       "      <td>Als Data Analist bij Cegeka zorg jij dat data ...</td>\n",
       "      <td>2021-03-10 20:18:19</td>\n",
       "    </tr>\n",
       "    <tr>\n",
       "      <th>...</th>\n",
       "      <td>...</td>\n",
       "      <td>...</td>\n",
       "      <td>...</td>\n",
       "      <td>...</td>\n",
       "      <td>...</td>\n",
       "      <td>...</td>\n",
       "      <td>...</td>\n",
       "      <td>...</td>\n",
       "    </tr>\n",
       "    <tr>\n",
       "      <th>5d455c047805a4aa</th>\n",
       "      <td></td>\n",
       "      <td></td>\n",
       "      <td></td>\n",
       "      <td></td>\n",
       "      <td></td>\n",
       "      <td></td>\n",
       "      <td></td>\n",
       "      <td>2021-03-10 20:18:19</td>\n",
       "    </tr>\n",
       "    <tr>\n",
       "      <th>657c5e67f432c114</th>\n",
       "      <td></td>\n",
       "      <td></td>\n",
       "      <td></td>\n",
       "      <td></td>\n",
       "      <td></td>\n",
       "      <td></td>\n",
       "      <td></td>\n",
       "      <td>2021-03-10 20:18:19</td>\n",
       "    </tr>\n",
       "    <tr>\n",
       "      <th>9ecf610c83ea2ccf</th>\n",
       "      <td></td>\n",
       "      <td></td>\n",
       "      <td></td>\n",
       "      <td></td>\n",
       "      <td></td>\n",
       "      <td></td>\n",
       "      <td></td>\n",
       "      <td>2021-03-10 20:18:19</td>\n",
       "    </tr>\n",
       "    <tr>\n",
       "      <th>2dab296d29823bd5</th>\n",
       "      <td></td>\n",
       "      <td></td>\n",
       "      <td></td>\n",
       "      <td></td>\n",
       "      <td></td>\n",
       "      <td></td>\n",
       "      <td></td>\n",
       "      <td>2021-03-10 20:18:19</td>\n",
       "    </tr>\n",
       "    <tr>\n",
       "      <th>265a398944c0b6c3</th>\n",
       "      <td></td>\n",
       "      <td></td>\n",
       "      <td></td>\n",
       "      <td></td>\n",
       "      <td></td>\n",
       "      <td></td>\n",
       "      <td></td>\n",
       "      <td>2021-03-10 20:18:19</td>\n",
       "    </tr>\n",
       "  </tbody>\n",
       "</table>\n",
       "<p>909 rows × 8 columns</p>\n",
       "</div>"
      ],
      "text/plain": [
       "                                      title                           company  \\\n",
       "a9749dd1260d0ccc  Traineeship: Data Analist            Createment\\n24 reviews   \n",
       "45f4c626b11ee6dd               Data Analist                Essent\\n15 reviews   \n",
       "5c387427784186c2               Data Analist                Shoeby\\n33 reviews   \n",
       "7f8fe03c5484706b               Data-Analist  Gemeente Valkenswaard\\n3 reviews   \n",
       "8f24ece2c83af849               Data Analist                Cegeka\\n28 reviews   \n",
       "...                                     ...                               ...   \n",
       "5d455c047805a4aa                                                                \n",
       "657c5e67f432c114                                                                \n",
       "9ecf610c83ea2ccf                                                                \n",
       "2dab296d29823bd5                                                                \n",
       "265a398944c0b6c3                                                                \n",
       "\n",
       "                    location                              salary  \\\n",
       "a9749dd1260d0ccc  24 reviews  €2.500 per maand - Fulltime, Stage   \n",
       "45f4c626b11ee6dd  15 reviews           €3.152 - €4.902 per maand   \n",
       "5c387427784186c2  33 reviews                                       \n",
       "7f8fe03c5484706b   3 reviews         €4.494 per maand - Parttime   \n",
       "8f24ece2c83af849  28 reviews                                       \n",
       "...                      ...                                 ...   \n",
       "5d455c047805a4aa                                                   \n",
       "657c5e67f432c114                                                   \n",
       "9ecf610c83ea2ccf                                                   \n",
       "2dab296d29823bd5                                                   \n",
       "265a398944c0b6c3                                                   \n",
       "\n",
       "                       postingdate companyreview  \\\n",
       "a9749dd1260d0ccc   8 dagen geleden                 \n",
       "45f4c626b11ee6dd  28 dagen geleden                 \n",
       "5c387427784186c2  15 dagen geleden                 \n",
       "7f8fe03c5484706b  13 dagen geleden                 \n",
       "8f24ece2c83af849   7 dagen geleden                 \n",
       "...                            ...           ...   \n",
       "5d455c047805a4aa                                   \n",
       "657c5e67f432c114                                   \n",
       "9ecf610c83ea2ccf                                   \n",
       "2dab296d29823bd5                                   \n",
       "265a398944c0b6c3                                   \n",
       "\n",
       "                                                        description  \\\n",
       "a9749dd1260d0ccc  Vraag jij je ook wel eens af hoe de apps op je...   \n",
       "45f4c626b11ee6dd  Bij Essent analyseert de Data Analist CX de NP...   \n",
       "5c387427784186c2  Details Dienstverband Fulltime Aantal uur per ...   \n",
       "7f8fe03c5484706b  Gemeente Valkenswaard zoekt: Een analytische e...   \n",
       "8f24ece2c83af849  Als Data Analist bij Cegeka zorg jij dat data ...   \n",
       "...                                                             ...   \n",
       "5d455c047805a4aa                                                      \n",
       "657c5e67f432c114                                                      \n",
       "9ecf610c83ea2ccf                                                      \n",
       "2dab296d29823bd5                                                      \n",
       "265a398944c0b6c3                                                      \n",
       "\n",
       "                          scrape_date  \n",
       "a9749dd1260d0ccc  2021-03-10 20:18:19  \n",
       "45f4c626b11ee6dd  2021-03-10 20:18:19  \n",
       "5c387427784186c2  2021-03-10 20:18:19  \n",
       "7f8fe03c5484706b  2021-03-10 20:18:19  \n",
       "8f24ece2c83af849  2021-03-10 20:18:19  \n",
       "...                               ...  \n",
       "5d455c047805a4aa  2021-03-10 20:18:19  \n",
       "657c5e67f432c114  2021-03-10 20:18:19  \n",
       "9ecf610c83ea2ccf  2021-03-10 20:18:19  \n",
       "2dab296d29823bd5  2021-03-10 20:18:19  \n",
       "265a398944c0b6c3  2021-03-10 20:18:19  \n",
       "\n",
       "[909 rows x 8 columns]"
      ]
     },
     "execution_count": 168,
     "metadata": {},
     "output_type": "execute_result"
    }
   ],
   "source": [
    "jobdata['scrape_date'] = dt_string\n",
    "#check\n",
    "jobdata"
   ]
  },
  {
   "cell_type": "markdown",
   "metadata": {},
   "source": [
    "### Save the csv file again"
   ]
  },
  {
   "cell_type": "code",
   "execution_count": 169,
   "metadata": {},
   "outputs": [],
   "source": [
    "jobdata.to_csv('data_analist_Nl_data.csv')"
   ]
  },
  {
   "cell_type": "markdown",
   "metadata": {},
   "source": [
    "## To do"
   ]
  },
  {
   "cell_type": "markdown",
   "metadata": {},
   "source": [
    "- Incorporate the current date and time in the scraper, rather than add it manually at the end\n",
    "- If possible, tackle the Captcha"
   ]
  }
 ],
 "metadata": {
  "kernelspec": {
   "display_name": "Python 3",
   "language": "python",
   "name": "python3"
  },
  "language_info": {
   "codemirror_mode": {
    "name": "ipython",
    "version": 3
   },
   "file_extension": ".py",
   "mimetype": "text/x-python",
   "name": "python",
   "nbconvert_exporter": "python",
   "pygments_lexer": "ipython3",
   "version": "3.8.5"
  }
 },
 "nbformat": 4,
 "nbformat_minor": 4
}

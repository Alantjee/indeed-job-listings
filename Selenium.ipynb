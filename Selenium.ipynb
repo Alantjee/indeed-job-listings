{
 "cells": [
  {
   "cell_type": "markdown",
   "metadata": {},
   "source": [
    "# Indeed.com scraping with Selenium"
   ]
  },
  {
   "cell_type": "code",
   "execution_count": 1,
   "metadata": {},
   "outputs": [],
   "source": [
    "# import packages\n",
    "import requests\n",
    "from bs4 import BeautifulSoup\n",
    "from datetime import datetime\n",
    "import pandas as pd\n",
    "from selenium import webdriver\n",
    "import time\n",
    "from datetime import datetime"
   ]
  },
  {
   "cell_type": "markdown",
   "metadata": {},
   "source": [
    "- Delete the job title and location in the url and replace it with curly braces. Create a base_url that you'll use to create whatever job position or location that you want."
   ]
  },
  {
   "cell_type": "code",
   "execution_count": 2,
   "metadata": {},
   "outputs": [],
   "source": [
    "base_url = 'https://nl.indeed.com/jobs?q={}&l={}&start='"
   ]
  },
  {
   "cell_type": "markdown",
   "metadata": {},
   "source": [
    "- Create a function called get_url, with the arguments of position and location. Then move the base_url variable inside this function."
   ]
  },
  {
   "cell_type": "code",
   "execution_count": 3,
   "metadata": {},
   "outputs": [],
   "source": [
    "def get_url(position, location):\n",
    "    \"\"\"Generate a url from position and location\"\"\"\n",
    "    base_url = 'https://nl.indeed.com/jobs?q={}&l={}&start='\n",
    "    url = base_url.format(position, location)\n",
    "    return url"
   ]
  },
  {
   "cell_type": "code",
   "execution_count": 4,
   "metadata": {},
   "outputs": [],
   "source": [
    "url = get_url('data analist', 'Nederland')"
   ]
  },
  {
   "cell_type": "code",
   "execution_count": 6,
   "metadata": {},
   "outputs": [
    {
     "data": {
      "text/plain": [
       "'https://nl.indeed.com/jobs?q=data analist&l=Nederland&start='"
      ]
     },
     "execution_count": 6,
     "metadata": {},
     "output_type": "execute_result"
    }
   ],
   "source": [
    "# check\n",
    "url"
   ]
  },
  {
   "cell_type": "code",
   "execution_count": 8,
   "metadata": {},
   "outputs": [],
   "source": [
    "# create driver object\n",
    "driver = webdriver.Chrome('/usr/local/bin/chromedriver')\n",
    "time.sleep(10)"
   ]
  },
  {
   "cell_type": "markdown",
   "metadata": {},
   "source": [
    "### Access the site programmatically"
   ]
  },
  {
   "cell_type": "markdown",
   "metadata": {},
   "source": [
    "- Tell the browser to visit the indeed page. Call the driver object created above and use the get method; pass the URL of the website you'd like to extract."
   ]
  },
  {
   "cell_type": "code",
   "execution_count": 9,
   "metadata": {},
   "outputs": [],
   "source": [
    "# asses webpage\n",
    "driver.get(url)"
   ]
  },
  {
   "cell_type": "markdown",
   "metadata": {},
   "source": [
    "- Accept cookies, if applicable."
   ]
  },
  {
   "cell_type": "code",
   "execution_count": 10,
   "metadata": {},
   "outputs": [],
   "source": [
    "try:\n",
    "    driver.find_element_by_id('onetrust-accept-btn-handler').click()\n",
    "    time.sleep(2)\n",
    "except:\n",
    "    print('probably accepted the cookie already!')"
   ]
  },
  {
   "cell_type": "markdown",
   "metadata": {},
   "source": [
    "- Use BeautifulSoup; create the res object from the driver object."
   ]
  },
  {
   "cell_type": "code",
   "execution_count": 11,
   "metadata": {},
   "outputs": [],
   "source": [
    "res = driver.page_source.encode('utf-8')\n",
    "soup = BeautifulSoup(res, \"html.parser\")"
   ]
  },
  {
   "cell_type": "code",
   "execution_count": 12,
   "metadata": {},
   "outputs": [
    {
     "data": {
      "text/plain": [
       "[<selenium.webdriver.remote.webelement.WebElement (session=\"d8e6f40dbe6c5e146e44595ea6762fa9\", element=\"13c3e472-b322-43e4-a186-433cb4839780\")>,\n",
       " <selenium.webdriver.remote.webelement.WebElement (session=\"d8e6f40dbe6c5e146e44595ea6762fa9\", element=\"6202f0bc-40c7-4c12-a534-729f6de4c375\")>,\n",
       " <selenium.webdriver.remote.webelement.WebElement (session=\"d8e6f40dbe6c5e146e44595ea6762fa9\", element=\"57487880-b107-4066-92a8-68748e294a81\")>,\n",
       " <selenium.webdriver.remote.webelement.WebElement (session=\"d8e6f40dbe6c5e146e44595ea6762fa9\", element=\"15cda5b8-9155-4855-9414-b0caa1ef0a0f\")>,\n",
       " <selenium.webdriver.remote.webelement.WebElement (session=\"d8e6f40dbe6c5e146e44595ea6762fa9\", element=\"ae418831-4f17-4c37-ae6e-f2ba241600d1\")>,\n",
       " <selenium.webdriver.remote.webelement.WebElement (session=\"d8e6f40dbe6c5e146e44595ea6762fa9\", element=\"3ad8c544-5491-47d9-8711-281ae8a3c04b\")>,\n",
       " <selenium.webdriver.remote.webelement.WebElement (session=\"d8e6f40dbe6c5e146e44595ea6762fa9\", element=\"65a49a37-454e-418d-b575-6cf9ceab16ff\")>,\n",
       " <selenium.webdriver.remote.webelement.WebElement (session=\"d8e6f40dbe6c5e146e44595ea6762fa9\", element=\"8b670ee1-0584-44bc-b451-2ef8c4fa13c5\")>,\n",
       " <selenium.webdriver.remote.webelement.WebElement (session=\"d8e6f40dbe6c5e146e44595ea6762fa9\", element=\"fac48bbd-0f27-4855-acdc-5ea54a952f9f\")>,\n",
       " <selenium.webdriver.remote.webelement.WebElement (session=\"d8e6f40dbe6c5e146e44595ea6762fa9\", element=\"d0e2b18a-8eb3-428e-965e-0c85e8ab23ce\")>,\n",
       " <selenium.webdriver.remote.webelement.WebElement (session=\"d8e6f40dbe6c5e146e44595ea6762fa9\", element=\"d8516df3-c3ba-486b-ab1a-6aadc9bbd0f7\")>,\n",
       " <selenium.webdriver.remote.webelement.WebElement (session=\"d8e6f40dbe6c5e146e44595ea6762fa9\", element=\"38256997-4dcd-44ba-80eb-a8cb4a28d840\")>,\n",
       " <selenium.webdriver.remote.webelement.WebElement (session=\"d8e6f40dbe6c5e146e44595ea6762fa9\", element=\"974abc33-6e48-45e0-8faa-5d01fb891204\")>,\n",
       " <selenium.webdriver.remote.webelement.WebElement (session=\"d8e6f40dbe6c5e146e44595ea6762fa9\", element=\"dfc3e01a-01fb-42cb-9bd4-9f2bceeacceb\")>,\n",
       " <selenium.webdriver.remote.webelement.WebElement (session=\"d8e6f40dbe6c5e146e44595ea6762fa9\", element=\"2b7548c6-3800-467f-8e83-d37b975dafc2\")>]"
      ]
     },
     "execution_count": 12,
     "metadata": {},
     "output_type": "execute_result"
    }
   ],
   "source": [
    "# store job card links in list\n",
    "jobs = driver.find_elements_by_class_name('jobsearch-SerpJobCard')\n",
    "\n",
    "# check\n",
    "jobs"
   ]
  },
  {
   "cell_type": "markdown",
   "metadata": {},
   "source": [
    "## Loop through the pages and collect the ids from the current page"
   ]
  },
  {
   "cell_type": "code",
   "execution_count": 13,
   "metadata": {},
   "outputs": [],
   "source": [
    "jobids = []\n",
    "\n",
    "# loop through first 80 pages\n",
    "for i in range(0,800,10):\n",
    "    driver.get(url+str(i))\n",
    "    time.sleep(6)\n",
    "    jobs = driver.find_elements_by_class_name('jobsearch-SerpJobCard')\n",
    "    \n",
    "    # collect ids from current page\n",
    "    for job in jobs:\n",
    "        jobid = job.get_attribute('data-jk')\n",
    "        jobids.append(jobid)"
   ]
  },
  {
   "cell_type": "code",
   "execution_count": 14,
   "metadata": {},
   "outputs": [
    {
     "data": {
      "text/plain": [
       "['024641b602f7096c',\n",
       " '54813bb6fcc05e03',\n",
       " 'a9749dd1260d0ccc',\n",
       " '45f4c626b11ee6dd',\n",
       " '88d0fa9c7504ebf8',\n",
       " '3c1fa6a22de9af0a',\n",
       " '05a4124d844292f6',\n",
       " '0333f71d5aa52b3c',\n",
       " '5c387427784186c2',\n",
       " '6a28b29568a5595a',\n",
       " 'fea9b49357181e96',\n",
       " '8ab7a6fcae7ca542',\n",
       " 'f20e3fbd9eef4ad7',\n",
       " '2092abb8bc277a2d',\n",
       " '5abd07aaea0337b0',\n",
       " '2092abb8bc277a2d',\n",
       " 'f85ea4745a4e534d',\n",
       " '4712056caf38bee1',\n",
       " '0479293efd3d04c8',\n",
       " '05225e8e90f5e755']"
      ]
     },
     "execution_count": 14,
     "metadata": {},
     "output_type": "execute_result"
    }
   ],
   "source": [
    "# check first 20 ids\n",
    "jobids[:20]"
   ]
  },
  {
   "cell_type": "markdown",
   "metadata": {},
   "source": [
    "## Check all components separately with one job id"
   ]
  },
  {
   "cell_type": "markdown",
   "metadata": {},
   "source": [
    "### Get the job title"
   ]
  },
  {
   "cell_type": "code",
   "execution_count": 25,
   "metadata": {},
   "outputs": [
    {
     "data": {
      "text/plain": [
       "'Data Analist'"
      ]
     },
     "execution_count": 25,
     "metadata": {},
     "output_type": "execute_result"
    }
   ],
   "source": [
    "driver.get('https://nl.indeed.com/vacature-bekijken?jk=024641b602f7096c')\n",
    "time.sleep(5)\n",
    "title = driver.find_element_by_class_name('jobsearch-JobInfoHeader-title').text\n",
    "\n",
    "# check\n",
    "title"
   ]
  },
  {
   "cell_type": "markdown",
   "metadata": {},
   "source": [
    "### Get the job company"
   ]
  },
  {
   "cell_type": "code",
   "execution_count": 26,
   "metadata": {},
   "outputs": [
    {
     "data": {
      "text/plain": [
       "'Aon'"
      ]
     },
     "execution_count": 26,
     "metadata": {},
     "output_type": "execute_result"
    }
   ],
   "source": [
    "driver.get('https://nl.indeed.com/vacature-bekijken?jk=024641b602f7096c')\n",
    "time.sleep(5)\n",
    "company = driver.find_element_by_class_name('jobsearch-InlineCompanyRating').text\n",
    "\n",
    "# check\n",
    "company"
   ]
  },
  {
   "cell_type": "markdown",
   "metadata": {},
   "source": [
    "### Get the job salary"
   ]
  },
  {
   "cell_type": "code",
   "execution_count": 27,
   "metadata": {},
   "outputs": [
    {
     "data": {
      "text/plain": [
       "'€2.600 - €3.500 per maand'"
      ]
     },
     "execution_count": 27,
     "metadata": {},
     "output_type": "execute_result"
    }
   ],
   "source": [
    "driver.get('https://nl.indeed.com/vacature-bekijken?jk=024641b602f7096c')\n",
    "time.sleep(5)\n",
    "try:\n",
    "    salary = driver.find_element_by_class_name('jobsearch-JobMetadataHeader-item').text\n",
    "except:\n",
    "    salary = \"\"\n",
    "\n",
    "# check\n",
    "salary"
   ]
  },
  {
   "cell_type": "markdown",
   "metadata": {},
   "source": [
    "### Get the job location"
   ]
  },
  {
   "cell_type": "code",
   "execution_count": 28,
   "metadata": {},
   "outputs": [
    {
     "data": {
      "text/plain": [
       "'Postcode 5651 in Eindhoven'"
      ]
     },
     "execution_count": 28,
     "metadata": {},
     "output_type": "execute_result"
    }
   ],
   "source": [
    "driver.get('https://nl.indeed.com/vacature-bekijken?jk=024641b602f7096c')\n",
    "time.sleep(5)\n",
    "location = driver.find_element_by_class_name('jobsearch-DesktopStickyContainer-subtitle').text.splitlines()[1]\n",
    "\n",
    "# check\n",
    "location"
   ]
  },
  {
   "cell_type": "markdown",
   "metadata": {},
   "source": [
    "### Get the job company review"
   ]
  },
  {
   "cell_type": "code",
   "execution_count": 36,
   "metadata": {},
   "outputs": [
    {
     "data": {
      "text/plain": [
       "'4,610 reviews'"
      ]
     },
     "execution_count": 36,
     "metadata": {},
     "output_type": "execute_result"
    }
   ],
   "source": [
    "driver.get('https://nl.indeed.com/vacature-bekijken?jk=024641b602f7096c')\n",
    "time.sleep(5)\n",
    "companyreview = driver.find_element_by_class_name('jobsearch-CompanyReview').find_element_by_class_name('icl-Ratings-count').text\n",
    "\n",
    "# check\n",
    "companyreview"
   ]
  },
  {
   "cell_type": "markdown",
   "metadata": {},
   "source": [
    "### Get the job description"
   ]
  },
  {
   "cell_type": "code",
   "execution_count": 37,
   "metadata": {},
   "outputs": [
    {
     "data": {
      "text/plain": [
       "'Over deze vacature In het kort Ben je analytisch sterk en altijd op zoek naar mogelijkheden om te helpen bij het verwezenlijken van bedrijfsdoelstellingen? Wil jij continu het beste halen uit data en met het team om tafel voor de beste strategie? Dan is de functie van Data Analist zeker iets voor jou! Jij brengt mee Minimaal hbo werk- en denkniveau Sterke affiniteit met processen en IT Grote mate van zelfstandigheid en daadkracht Je vindt bij ons Vaste 13e maand Bonusregeling Premievrij pensioen Tom von Wolzogen Kühr Recruiter 06 22581665  tom.von.wolzogen.kuhr@aon.com  linkedin.com/in/tomvonwolzogenkühr Wat ga je doen? Met de toenemende groei van data is de behoefte naar goede informatie en het gebruik en interpreteren daarvan explosief gestegen. Data is dan ook één van de internationale pijlers binnen Aon. Als Data Analist krijg je de ruimte om te pionieren. Je geeft proactief inzicht in het gedrag van onze klanten, identificeer en kwantificeer je risico’s, signaleer je trends en ontwikkelingen en help je mee aan de transformatie naar meer datagedreven advies. Als Data Analist draag je bij aan het realiseren van de afdelings- en bedrijfsdoelstellingen. Je draagt bij door jouw specifieke kennis en ervaring in te brengen en door kennis te delen met het team. Taken en verantwoordelijkheden Verbeteren van de datakwaliteit, toevoegen van ontbrekende datasets Beheer, doorontwikkeling en uitvoering van huidige set aan verantwoordings- en maatwerkrapportages Uitvoeren van analyses aan de hand van data, referentie-onderzoeken, gesprekken en collegiale reviews Verzamelen van data uit zowel interne als externe bronnen (UWV, CPB, CBS) Analyses omzetten naar conclusies, consequenties, plannen en modellen Opstellen van business casussen en adviezen Creëren van heldere rapportages en dashboards Afstemming met de leverancier voor testen van releases Zo ziet jouw dag eruit Doorvoeren van serviceverbeteringen 60% Prioriteren en beheren van de backlog 20% Verwachtingen managen van partners 10% Beantwoorden van vragen uit het team 10% Waar kom je te werken?  Ons Team De afdeling Digital bestaat uit 12 personen die zich bezig houden met het steeds verder digitaliseren van de zorgketen. In het bijzonder stellen wij het bedrijf in staat om zoveel mogelijk transacties met klanten en partners zo geautomatiseerd mogelijk af te handelen. Op de afdeling werken Product Owners, Data analisten, Project Managers, Consultants, Change & Release Manager, Test Coordinator en Business Process Experts. Veel van onze mensen hebben een IT achtergrond en we onderhouden daarnaast nauwe banden met IT. Aon Nederland Wij zijn de toonaangevende wereldwijde dienstverlener op het gebied van risk, retirement en health. We analyseren risico’s, geven advies, zorgen voor de (financiële) oplossing en staan klanten bij als bij een incident de bedrijfscontinuïteit wordt bedreigd. Zo helpen wij klanten succesvol te ondernemen. We hebben de unieke kans om de absolute topspeler in Nederland te zijn. Met onze historie, kennis van inhoud en markten en bundeling van krachten zetten we een organisatie neer, die gaat voor resultaten behalen, pro actief helpen en ondersteunen en kansen creëren en benutten, zowel voor onze klanten als voor onszelf. In Nederland heeft Aon 14 locaties met 2.500 medewerkers.  Aon Wereldwijd Het bedrijf maakt deel uit van Aon plc in Londen, Verenigd Koninkrijk. Het wereldwijde Aon-netwerk omvat circa 500 kantoren in meer dan 120 landen en telt ruim 50.000 medewerkers. Hiermee is Aon een van de grotere financiële dienstverleners ter wereld. Aon plc is gespecialiseerd in financiële en verzekeringsdienstverlening en staat genoteerd aan de effectenbeurs van New York (NYSE : AON). Wat neem je mee? Minimaal een hbo diploma Aantoonbare ervaring met statistische analyses Kennis van of affiniteit met zorgverzekering of andere financiële diensten In staat tot het vertalen van data naar business inzichten, zelfstandig of met behulp van ervaren collega’s Creativiteit en doorzettingsvermogen Kennis van SQL en/of PL/SQL, Datawarehouse, Datamarts en ETL Pré: kennis Oracle Health Insurance Back Office en Data Marts Wat bieden wij jou? Een zelfstandige en dynamische baan met volop ruimte en mogelijkheden om je verder te ontwikkelen. Je krijgt de kans om samen met ons te werken aan de verbetering van onze zorgketen om zo groei te realiseren. Hierbij bieden wij een uitstekend pakket aan arbeidsvoorwaarden, waaronder: Vaste 13e maand Bonusregeling Premievrij pensioen 29 vakantiedagen met optie om meer bij te kopen 8% vakantietoeslag Reiskostenvergoeding Collectieve ziektekostenverzekering Korting op aantal andere verzekeringen Laptop'"
      ]
     },
     "execution_count": 37,
     "metadata": {},
     "output_type": "execute_result"
    }
   ],
   "source": [
    "driver.get('https://nl.indeed.com/vacature-bekijken?jk=024641b602f7096c')\n",
    "time.sleep(5)\n",
    "description = driver.find_element_by_id('jobDescriptionText').text.replace('\\n',' ')\n",
    "\n",
    "# check\n",
    "description"
   ]
  },
  {
   "cell_type": "markdown",
   "metadata": {},
   "source": [
    "### Get the job posting date"
   ]
  },
  {
   "cell_type": "code",
   "execution_count": 38,
   "metadata": {},
   "outputs": [
    {
     "data": {
      "text/plain": [
       "'30+ dagen geleden'"
      ]
     },
     "execution_count": 38,
     "metadata": {},
     "output_type": "execute_result"
    }
   ],
   "source": [
    "driver.get('https://nl.indeed.com/vacature-bekijken?jk=024641b602f7096c')\n",
    "time.sleep(5)\n",
    "postingdate = driver.find_element_by_class_name('jobsearch-JobMetadataFooter').text.splitlines()[1]\n",
    "\n",
    "# check\n",
    "postingdate"
   ]
  },
  {
   "cell_type": "markdown",
   "metadata": {},
   "source": [
    "# Putting it all together"
   ]
  },
  {
   "cell_type": "markdown",
   "metadata": {},
   "source": [
    "- Note: if it asks you at some point to prove that you're not a robot, copy the link in a new window and select the right images.\n",
    "- Tip for the the next trial: separate the ids in multiple bundles and run them separately to ensure that it doens't crush."
   ]
  },
  {
   "cell_type": "code",
   "execution_count": 52,
   "metadata": {},
   "outputs": [],
   "source": [
    "titles = []\n",
    "companies = []\n",
    "locations = []\n",
    "salaries = []\n",
    "postingdates = []\n",
    "companyreviews = []\n",
    "descriptions = []\n",
    "scrapetime = []\n",
    "#urls = []\n",
    "\n",
    "# Use jobids2 = jobids, because you can run it for a selected segment, by setting jobids to, for example, jobids[:3] for the first 3 elements. And so, you only have to change this once, here.\n",
    "jobids2 = jobids\n",
    "\n",
    "for jobid in jobids2:\n",
    "    driver.get('https://nl.indeed.com/vacature-bekijken?jk='+jobid)\n",
    "    scrapetime.append(datetime.now().strftime(\"%Y-%m-%d %H:%M:%S\"))\n",
    "    time.sleep(3)\n",
    "    try:\n",
    "        titles.append(driver.find_element_by_class_name('jobsearch-JobInfoHeader-title').text)\n",
    "    except:\n",
    "        titles.append('')\n",
    "    try:\n",
    "        companies.append(driver.find_element_by_class_name('jobsearch-InlineCompanyRating').text)\n",
    "    except:\n",
    "        companies.append('')\n",
    "    try:\n",
    "        locations.append(driver.find_element_by_class_name('jobsearch-DesktopStickyContainer-subtitle').text.splitlines()[1])\n",
    "    except:\n",
    "        locations.append('')\n",
    "    try:\n",
    "        salaries.append(driver.find_element_by_class_name('jobsearch-JobMetadataHeader-item').text)\n",
    "    except:\n",
    "        salaries.append('')\n",
    "    try:\n",
    "        postingdates.append(driver.find_element_by_class_name('jobsearch-JobMetadataFooter').text.splitlines()[1])\n",
    "    except:\n",
    "        postingdates.append('')\n",
    "    try:\n",
    "        companyreviews.append(driver.find_element_by_class_name('jobsearch-CompanyReview').find_element_by_class_name('icl-Ratings-count').text)\n",
    "    except:\n",
    "        companyreviews.append('')\n",
    "    try:\n",
    "        descriptions.append(driver.find_element_by_id('jobDescriptionText').text.replace('\\n',' '))\n",
    "    except:\n",
    "        descriptions.append('')\n",
    "    \n",
    "    #To do:\n",
    "    #urls.append(driver.find_element_by_class_name('###').text\n",
    "\n"
   ]
  },
  {
   "cell_type": "markdown",
   "metadata": {},
   "source": [
    "### Create a data frame from the above lists"
   ]
  },
  {
   "cell_type": "code",
   "execution_count": 53,
   "metadata": {},
   "outputs": [],
   "source": [
    "jobdata = pd.DataFrame(index=jobids2, data={'title':titles, 'company':companies, 'location':locations,\n",
    "                                            'salary':salaries, 'postingdate':postingdates,\n",
    "                                            'companyreview':companyreviews, 'description':descriptions,\n",
    "                                           'scrapetime':scrapetime})"
   ]
  },
  {
   "cell_type": "code",
   "execution_count": 54,
   "metadata": {},
   "outputs": [
    {
     "data": {
      "text/html": [
       "<div>\n",
       "<style scoped>\n",
       "    .dataframe tbody tr th:only-of-type {\n",
       "        vertical-align: middle;\n",
       "    }\n",
       "\n",
       "    .dataframe tbody tr th {\n",
       "        vertical-align: top;\n",
       "    }\n",
       "\n",
       "    .dataframe thead th {\n",
       "        text-align: right;\n",
       "    }\n",
       "</style>\n",
       "<table border=\"1\" class=\"dataframe\">\n",
       "  <thead>\n",
       "    <tr style=\"text-align: right;\">\n",
       "      <th></th>\n",
       "      <th>title</th>\n",
       "      <th>company</th>\n",
       "      <th>location</th>\n",
       "      <th>salary</th>\n",
       "      <th>postingdate</th>\n",
       "      <th>companyreview</th>\n",
       "      <th>description</th>\n",
       "      <th>scrapetime</th>\n",
       "    </tr>\n",
       "  </thead>\n",
       "  <tbody>\n",
       "    <tr>\n",
       "      <th>024641b602f7096c</th>\n",
       "      <td>Data Analist</td>\n",
       "      <td>Aon\\n4,610 reviews</td>\n",
       "      <td>4,610 reviews</td>\n",
       "      <td>€2.600 - €3.500 per maand</td>\n",
       "      <td>30+ dagen geleden</td>\n",
       "      <td></td>\n",
       "      <td>Over deze vacature In het kort Ben je analytis...</td>\n",
       "      <td>2021-03-11 11:56:40</td>\n",
       "    </tr>\n",
       "    <tr>\n",
       "      <th>54813bb6fcc05e03</th>\n",
       "      <td>Data Analist</td>\n",
       "      <td>TreeHouse</td>\n",
       "      <td>Rotterdam</td>\n",
       "      <td></td>\n",
       "      <td>Vacature rapporteren</td>\n",
       "      <td></td>\n",
       "      <td>Pararius - het grootste online huurplatform va...</td>\n",
       "      <td>2021-03-11 11:56:43</td>\n",
       "    </tr>\n",
       "    <tr>\n",
       "      <th>a9749dd1260d0ccc</th>\n",
       "      <td>Traineeship: Data Analist</td>\n",
       "      <td>Createment\\n24 reviews</td>\n",
       "      <td>24 reviews</td>\n",
       "      <td>€2.500 per maand - Fulltime, Stage</td>\n",
       "      <td>8 dagen geleden</td>\n",
       "      <td></td>\n",
       "      <td>Vraag jij je ook wel eens af hoe de apps op je...</td>\n",
       "      <td>2021-03-11 11:56:47</td>\n",
       "    </tr>\n",
       "    <tr>\n",
       "      <th>45f4c626b11ee6dd</th>\n",
       "      <td>Data Analist</td>\n",
       "      <td>Essent\\n15 reviews</td>\n",
       "      <td>15 reviews</td>\n",
       "      <td>€3.152 - €4.902 per maand</td>\n",
       "      <td>29 dagen geleden</td>\n",
       "      <td></td>\n",
       "      <td>Bij Essent analyseert de Data Analist CX de NP...</td>\n",
       "      <td>2021-03-11 11:56:49</td>\n",
       "    </tr>\n",
       "    <tr>\n",
       "      <th>88d0fa9c7504ebf8</th>\n",
       "      <td>Senior Business Analist</td>\n",
       "      <td>De Wever</td>\n",
       "      <td>Tilburg</td>\n",
       "      <td>€3.557 - €4.744 per maand</td>\n",
       "      <td>Vacature rapporteren</td>\n",
       "      <td></td>\n",
       "      <td>Als Senior Business Analist analyseer je de im...</td>\n",
       "      <td>2021-03-11 11:56:52</td>\n",
       "    </tr>\n",
       "  </tbody>\n",
       "</table>\n",
       "</div>"
      ],
      "text/plain": [
       "                                      title                 company  \\\n",
       "024641b602f7096c               Data Analist      Aon\\n4,610 reviews   \n",
       "54813bb6fcc05e03               Data Analist               TreeHouse   \n",
       "a9749dd1260d0ccc  Traineeship: Data Analist  Createment\\n24 reviews   \n",
       "45f4c626b11ee6dd               Data Analist      Essent\\n15 reviews   \n",
       "88d0fa9c7504ebf8    Senior Business Analist                De Wever   \n",
       "\n",
       "                       location                              salary  \\\n",
       "024641b602f7096c  4,610 reviews           €2.600 - €3.500 per maand   \n",
       "54813bb6fcc05e03      Rotterdam                                       \n",
       "a9749dd1260d0ccc     24 reviews  €2.500 per maand - Fulltime, Stage   \n",
       "45f4c626b11ee6dd     15 reviews           €3.152 - €4.902 per maand   \n",
       "88d0fa9c7504ebf8        Tilburg           €3.557 - €4.744 per maand   \n",
       "\n",
       "                           postingdate companyreview  \\\n",
       "024641b602f7096c     30+ dagen geleden                 \n",
       "54813bb6fcc05e03  Vacature rapporteren                 \n",
       "a9749dd1260d0ccc       8 dagen geleden                 \n",
       "45f4c626b11ee6dd      29 dagen geleden                 \n",
       "88d0fa9c7504ebf8  Vacature rapporteren                 \n",
       "\n",
       "                                                        description  \\\n",
       "024641b602f7096c  Over deze vacature In het kort Ben je analytis...   \n",
       "54813bb6fcc05e03  Pararius - het grootste online huurplatform va...   \n",
       "a9749dd1260d0ccc  Vraag jij je ook wel eens af hoe de apps op je...   \n",
       "45f4c626b11ee6dd  Bij Essent analyseert de Data Analist CX de NP...   \n",
       "88d0fa9c7504ebf8  Als Senior Business Analist analyseer je de im...   \n",
       "\n",
       "                           scrapetime  \n",
       "024641b602f7096c  2021-03-11 11:56:40  \n",
       "54813bb6fcc05e03  2021-03-11 11:56:43  \n",
       "a9749dd1260d0ccc  2021-03-11 11:56:47  \n",
       "45f4c626b11ee6dd  2021-03-11 11:56:49  \n",
       "88d0fa9c7504ebf8  2021-03-11 11:56:52  "
      ]
     },
     "execution_count": 54,
     "metadata": {},
     "output_type": "execute_result"
    }
   ],
   "source": [
    "# check\n",
    "jobdata"
   ]
  },
  {
   "cell_type": "markdown",
   "metadata": {},
   "source": [
    "### Save the data frame in a csv file"
   ]
  },
  {
   "cell_type": "code",
   "execution_count": 163,
   "metadata": {},
   "outputs": [],
   "source": [
    "# save\n",
    "jobdata.to_csv('data_analist_Nl_data.csv')"
   ]
  },
  {
   "cell_type": "markdown",
   "metadata": {},
   "source": [
    "## To do"
   ]
  },
  {
   "cell_type": "markdown",
   "metadata": {},
   "source": [
    "- If possible, tackle the Captcha"
   ]
  }
 ],
 "metadata": {
  "kernelspec": {
   "display_name": "Python 3",
   "language": "python",
   "name": "python3"
  },
  "language_info": {
   "codemirror_mode": {
    "name": "ipython",
    "version": 3
   },
   "file_extension": ".py",
   "mimetype": "text/x-python",
   "name": "python",
   "nbconvert_exporter": "python",
   "pygments_lexer": "ipython3",
   "version": "3.8.3"
  }
 },
 "nbformat": 4,
 "nbformat_minor": 4
}

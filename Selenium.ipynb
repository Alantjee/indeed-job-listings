{
 "cells": [
  {
   "cell_type": "markdown",
   "metadata": {},
   "source": [
    "## Code snippets from requests scraper:"
   ]
  },
  {
   "cell_type": "code",
   "execution_count": 60,
   "metadata": {},
   "outputs": [],
   "source": [
    "template = 'https://nl.indeed.com/jobs?q={}&l={}'"
   ]
  },
  {
   "cell_type": "code",
   "execution_count": 61,
   "metadata": {},
   "outputs": [],
   "source": [
    "def get_url(position, location):\n",
    "    \"\"\"Generate a url from position and location\"\"\"\n",
    "    template = 'https://nl.indeed.com/jobs?q={}&l={}'\n",
    "    url = template.format(position, location)\n",
    "    return url"
   ]
  },
  {
   "cell_type": "code",
   "execution_count": 62,
   "metadata": {},
   "outputs": [],
   "source": [
    "url = get_url('data analist', 'Nederland')"
   ]
  },
  {
   "cell_type": "markdown",
   "metadata": {},
   "source": [
    "## New code snippets:"
   ]
  },
  {
   "cell_type": "code",
   "execution_count": 63,
   "metadata": {},
   "outputs": [],
   "source": [
    "# import packages\n",
    "from selenium import webdriver\n",
    "import time"
   ]
  },
  {
   "cell_type": "code",
   "execution_count": 64,
   "metadata": {},
   "outputs": [],
   "source": [
    "# create driver object\n",
    "driver = webdriver.Chrome('/usr/local/bin/chromedriver')\n",
    "time.sleep(10)"
   ]
  },
  {
   "cell_type": "code",
   "execution_count": 65,
   "metadata": {},
   "outputs": [],
   "source": [
    "from bs4 import BeautifulSoup\n",
    "res = driver.page_source.encode('utf-8')\n",
    "soup = BeautifulSoup(res, \"html.parser\")"
   ]
  },
  {
   "cell_type": "code",
   "execution_count": 70,
   "metadata": {},
   "outputs": [
    {
     "data": {
      "text/plain": [
       "[<selenium.webdriver.remote.webelement.WebElement (session=\"454fa2a0ccd3f492aebfa0e8f76e9e8a\", element=\"0cd4e366-b318-41ff-95d1-afd713dd42c9\")>,\n",
       " <selenium.webdriver.remote.webelement.WebElement (session=\"454fa2a0ccd3f492aebfa0e8f76e9e8a\", element=\"c4a3700d-3796-46de-81e3-d2e54ef4de12\")>,\n",
       " <selenium.webdriver.remote.webelement.WebElement (session=\"454fa2a0ccd3f492aebfa0e8f76e9e8a\", element=\"3dc0046e-e885-4d9b-bfcf-8adadce8e863\")>,\n",
       " <selenium.webdriver.remote.webelement.WebElement (session=\"454fa2a0ccd3f492aebfa0e8f76e9e8a\", element=\"aa94a299-960d-4770-99b7-7252885c1c5c\")>,\n",
       " <selenium.webdriver.remote.webelement.WebElement (session=\"454fa2a0ccd3f492aebfa0e8f76e9e8a\", element=\"31142c01-2380-4fca-9702-22d725c50ecf\")>,\n",
       " <selenium.webdriver.remote.webelement.WebElement (session=\"454fa2a0ccd3f492aebfa0e8f76e9e8a\", element=\"10462cf6-8dca-4d0d-889f-cdeabe88a06e\")>,\n",
       " <selenium.webdriver.remote.webelement.WebElement (session=\"454fa2a0ccd3f492aebfa0e8f76e9e8a\", element=\"05bbd878-e68c-41c2-84ae-c9e3d7199cec\")>,\n",
       " <selenium.webdriver.remote.webelement.WebElement (session=\"454fa2a0ccd3f492aebfa0e8f76e9e8a\", element=\"a232c8de-5e3a-4187-a745-0af354c7ce9b\")>,\n",
       " <selenium.webdriver.remote.webelement.WebElement (session=\"454fa2a0ccd3f492aebfa0e8f76e9e8a\", element=\"ecb57578-d682-4f66-be6b-0dd9db2c0e4d\")>,\n",
       " <selenium.webdriver.remote.webelement.WebElement (session=\"454fa2a0ccd3f492aebfa0e8f76e9e8a\", element=\"0cb8157e-b020-4a4f-b68a-fb4c746aeba4\")>,\n",
       " <selenium.webdriver.remote.webelement.WebElement (session=\"454fa2a0ccd3f492aebfa0e8f76e9e8a\", element=\"cd4447be-2124-46af-807e-0fd96867fc9a\")>,\n",
       " <selenium.webdriver.remote.webelement.WebElement (session=\"454fa2a0ccd3f492aebfa0e8f76e9e8a\", element=\"a3a09f6a-421b-435f-ae26-5a28397c7dda\")>,\n",
       " <selenium.webdriver.remote.webelement.WebElement (session=\"454fa2a0ccd3f492aebfa0e8f76e9e8a\", element=\"39c68c28-d5a8-41df-bb4c-b2ded4df4a0e\")>,\n",
       " <selenium.webdriver.remote.webelement.WebElement (session=\"454fa2a0ccd3f492aebfa0e8f76e9e8a\", element=\"b35d18e6-530d-4b0f-b92e-01f154da5264\")>,\n",
       " <selenium.webdriver.remote.webelement.WebElement (session=\"454fa2a0ccd3f492aebfa0e8f76e9e8a\", element=\"c2119ed2-3834-42d6-9bcd-712424df5b0c\")>]"
      ]
     },
     "execution_count": 70,
     "metadata": {},
     "output_type": "execute_result"
    }
   ],
   "source": [
    "# asses webpage\n",
    "driver.get(url)\n",
    "\n",
    "# store job card links in list\n",
    "jobs = driver.find_elements_by_class_name('jobsearch-SerpJobCard')\n",
    "jobs"
   ]
  },
  {
   "cell_type": "code",
   "execution_count": 67,
   "metadata": {},
   "outputs": [],
   "source": [
    "# check for cookie button\n",
    "try:\n",
    "    driver.find_element_by_id('onetrust-accept-btn-handler').click()\n",
    "    time.sleep(2)\n",
    "except:\n",
    "    print('probably accepted the cookie already!')\n"
   ]
  },
  {
   "cell_type": "code",
   "execution_count": 69,
   "metadata": {},
   "outputs": [],
   "source": [
    "# chrome page does not work\n",
    "driver.get(template)\n",
    "time.sleep(5)\n",
    "jobs = driver.find_elements_by_class_name('jobsearch-SerpJobCard')\n",
    "jobids = []\n",
    "for job in jobs:\n",
    "    jobid = job.get_attribute('data-jk')\n",
    "    jobids.append(jobid)\n"
   ]
  },
  {
   "cell_type": "code",
   "execution_count": 56,
   "metadata": {},
   "outputs": [
    {
     "data": {
      "text/plain": [
       "[]"
      ]
     },
     "execution_count": 56,
     "metadata": {},
     "output_type": "execute_result"
    }
   ],
   "source": [
    "jobids"
   ]
  },
  {
   "cell_type": "code",
   "execution_count": 58,
   "metadata": {},
   "outputs": [],
   "source": [
    "for jobid in jobids:\n",
    "    driver.get('https://nl.indeed.com/vacature-bekijken?jk='+jobid)\n",
    "    time.sleep(4)"
   ]
  },
  {
   "cell_type": "code",
   "execution_count": 45,
   "metadata": {},
   "outputs": [],
   "source": [
    "# I put a limit for now for the for loop because it opens a new chrome page for each job\n",
    "# Note: if 'vjs-content' gives an error, try \"vjs-tab-job\" and vice versa\n",
    "# To do: try to implement try - except\n",
    "\n",
    "descriptions = []\n",
    "\n",
    "for job in jobs[:6]:\n",
    "    job.click()\n",
    "    time.sleep(1)\n",
    "    \n",
    "    # get job descriptions\n",
    "    desc = driver.find_element_by_id('vjs-tab-job').text\n",
    "    descriptions.append(desc)\n",
    "    \n",
    "    # go to next page\n",
    "    "
   ]
  },
  {
   "cell_type": "code",
   "execution_count": 32,
   "metadata": {},
   "outputs": [
    {
     "data": {
      "text/plain": [
       "[\"De energiemarkt is volop in beweging, daarom moeten we onze dienstverlening blijven aanpassen. Als Data Analist werk je binnen de afdeling Marketing en Product Management (MPM) in het expertisegebied Marketing Intelligence (MI). MI adviseert collega's met een inspirerend klantadvies op basis van onderzoek en analyse hoe de productontwikkeling en klantinteractie verder verbeterd kan worden. MI bestaat momenteel uit een data analist, web analist, marktonderzoeker en een senior marketing intelligence medewerker.\\nSamen met de MPM-collega's met expertises op het gebied van digital marketing, marketing intelligence, productmanagement, segment marketing en klantcommunicatie/contentmarketing vertegenwoordigen wij de 'stem van de klant' bij de inrichting en doorontwikkeling van excellente dienstverlening.\\n\\nFunctiebeschrijving\\n\\nAls Data Analist ben je verantwoordelijk voor het prepareren van data vanuit verschillende databronnen en deze beschikbaar te stellen om analyses mogelijk te maken. Daarnaast voer je analyses uit samen met je collega Data Analist, met wie je nauw samenwerkt. Vanuit je bevindingen adviseer je de business. Het doel hier van is om bij elke verandering die de klant raakt, een impactvol klantgericht advies te leveren.\\nHieronder een greep uit je gemiddelde werkdag als Data Analist:\\nRapporteren van kerncijfers en marktontwikkelingen;\\nUitvoeren van en zoveel mogelijk (laten) automatiseren van selecties en rapportages;\\nDatabronnen ontsluiten en aan elkaar koppelen, waarna je de data prepareert. Je werkt met de volgende bronnen: EDWH (Enexis Data-Warehouse), Marktonderzoek, websites, portals, Klantenservice, Externe databronnen (CBS etc.);\\nOverleggen met de business, om proceskennis eigen te maken. Kennis hebben van de business stelt je in staat om processen door te vertalen in data.\\nAls Data Analist ga je samen met je team aan de slag met het creëren van een integraal beeld van de beschikbare data. Jij hebt daar een cruciale rol in; het prepareren en analyseren van de data en datasets beschikbaar stellen gaat de afdeling in staat stellen om te komen tot dit integrale klantbeeld. Dit gaat resulteren in het sneller en meer fact-based doorvoeren van verbeteringen voor klanten.\\n\\nFunctie-eisen\\n\\nQua persoonlijkheid zijn we op zoek naar iemand die naast de technische knowhow, ook communicatief sterk is. Iemand die over organisatievermogen beschikt, graag multidisciplinair samenwerkt en over adviesvaardigheden beschikt. Ook nauwkeurigheid, het nemen van je verantwoordelijkheid en proactief te werk gaan zijn belangrijk in deze functie. Daarnaast zoeken we iemand die analytisch sterk is.\\nDaarnaast beschik je over minimaal 5 jaar ervaring als data analist en over de volgende kennis:\\nErvaring met het ontsluiten, koppelen en verwerken van grote datasets;\\nErvaring met het uitvoeren van kwantitatieve analyses (statistiek), het opstellen van cijfermatige rapportages, datavisualisatie en het maken van selecties;\\nUitstekende kennis van Power BI, SQL en SPSS (en/of R);\\nErvaring met web analyse is een pré.\\nWeet jij precies hoe je databronnen samenbrengt om tot relevante inzichten te komen voor een integraal klantbeeld? Dan zien wij je reactie graag tegemoet voor de functie van Data Analist!\\n\\nArbeidsvoorwaarden\\n\\nBen je al enthousiast geworden? Als sociale werkgever bieden wij je naast een goede balans tussen werk en privé, veel vrijheid en ook nog eens een aantrekkelijk arbeidsvoorwaardenpakket. Dit pakket kun je naar jouw eigen wensen inzetten. Houd jij bijvoorbeeld van verre reizen? Bij ons krijg je 24,5 vakantiedag, maar kun je in totaal nog 35,5 dag bijkopen vanuit jouw persoonlijk budget!\\nVind jij sporten of jezelf ontwikkelen een must? Je krijgt een bruto budget van €500,- per jaar voor je sportabonnement en is er budget voor het volgen van training en opleidingen.\\n\\nNog steeds enthousiast?\\nJe ontvangt een budget van 28,7% over je bruto jaarsalaris. Hierin zit o.a. je vakantiegeld, ADV en 13e maand. Dit budget is flexibel in te zetten voor bijvoorbeeld het bijkopen van extra verlof of een maandelijkse uitbetaling.\\nDeze functie is ingedeeld in klasse 15, met een inschaling tussen € 3.404,- en € 4.863,- bruto per maand, op basis van een 40-urige werkweek.\\nEen reiskostenvergoeding en een 1e klas OV-kaart, inclusief gebruik van een OV-fiets;\\nEen goede pensioenregeling en collectieve verzekeringen;\\nEen laptop en telefoon die je ook privé kunt gebruiken;\\n\\n\\nScreeningsbeleid\\nOns screeningsbeleid houdt, afhankelijk van de functie, in: het nagaan van referenties, het toetsen van de authenticiteit van cv, identiteitspapieren en diploma's en het opvragen van een verklaring omtrent gedrag (VOG). Het is vanwege veiligheidsrichtlijnen, noodzakelijk om vloeiend Nederlands te spreken, lezen en schrijven.\\n\\nBen jij de persoon die wij zoeken? Solliciteer dan nu of neem voor meer informatie contact op met Aniek Smeets (Corporate Recruiter) via aniek.smeets@enexis.nl of bel/app naar 06-27181659.\\n13 dagen geleden\\n- Solliciteer op de werkgevers website\\nVacature rapporteren\",\n",
       " 'Bedrijfsomschrijving\\nInsight First is een allround data & analytics adviesbureau. We helpen klanten om inzicht te krijgen in de belangrijkste KPI’s die hun merk laten groeien. Het begint immers bij de business. We zijn zoals je dat anno 2021 noemt ‘data translators’. We weten welke inzichten nodig zijn maar ook waar deze te vinden zijn en hoe we deze mooi weergeven in een dashboard.\\nWe werken veel voor hard groeiende online merken en zijn gespecialiseerd in Shopify & online marketingdata zoals Google Analytics, Facebook – en Google Ads. Daarnaast werken we veel met Marketplace data (Bol.com & Amazon) maar bijvoorbeeld ook voor marketing agencies waar dan weer hele andere inzichten bij komen kijken. Een greep uit onze klanten: Nuud, Veloretti, Naïf Care, First Energy Gum, NATWERK, Active Living.\\nInmiddels hebben we ca. 20 klanten onder onze hoede en zijn we hard op zoek naar uitbreiding! Momenteel werken we met een klein team bestaande uit Kim, Jelle en een aantal slimme ZZP’ers met elk hun eigen expertise. We werken en lunchen dagelijks samen met de teams van start-ups Created First en Nuud vanuit de fantastische co-working space Creative Valley pal naast Utrecht centraal. Hoewel we dus een klein team zijn, ontbreekt het nooit aan gezelligheid!\\nVacaturetekst\\nWat ga je doen?\\nJe bouwt dashboards en doet analyses van begin tot eind. Dat wil zeggen:\\nJe koppelt de benodigde databronnen met behulp van onze standaard toolkit (geen coderen)\\nJe organiseert en structureert data uit diverse systemen en verbindt deze in 1 datamodel door middel van SQL\\nJe analyseert deze data en bedenkt welke inzichten de klant nodig heeft, bijvoorbeeld verkochte producten per categorie, of online uitgaves afgezet tegen de omzet\\nJe bouwt een strak dashboard waar al deze data in samenkomt\\nJe wordt verantwoordelijk voor een aantal eigen klanten. Voor deze klanten beheer jij de dashboards, voer je gesprekken over uitbreiding hiervan en doe je eenmalige analyses.\\nJe bent in staat de klant te adviseren over welke inzichten toegevoegd kunnen worden en bent echt een sparringspartner voor de klant. Vaak hebben onze klanten geen eigen data analist in dienst dus is je contactpersoon bij de klant de CFO, CEO of E-commerce\\nmanager.\\nJe werkt nauw samen met Kim en Jelle en onze freelancers voor ondersteuning.\\nWe werken in de Google stack d.w.z. veel met Google Sheets; Google BigQuery (datawarehouse) & Google Data Studio (dashboarding). Daarnaast gebruiken we Supermetrics, Stitch en python scripts i.c.m. Google Cloud voor het ontsluiten van de data, en DBT voor modelleren.\\nWie ben jij / wat heb jij:\\nAfgeronde WO master opleiding;\\nJe werkt zelfstandig en bent oplossingsgericht. Google kent voor jou geen geheimen en youtube tutorials en stackoverflow are life;\\nJe houdt van puzzelen en wilt elke dag iets nieuws leren;\\nJouw vrienden of collega’s komen voor al hun excel vragen naar jou toe;\\nJe kunt minimaal een LEFT JOIN in SQL;\\n1 á 2 jaar werkervaring is een pré;\\nErvaring met dashboarding tools is een pré (Google Data Studio, PowerBI);\\nJe bent beschikbaar voor minimaal 32 uur per week;\\nJe kunt Nederlands spreken & schrijven.\\nWat bieden wij?\\nEen uitdagende functie met veel verantwoordelijkheid en afwisseling;\\nVeel ruimte voor ondernemerschap en eigen inbreng;\\nWerken voor gave merken en met een brede variëteit aan datasets (versus 1 groot bedrijf waar je steeds met dezelfde data werkt);\\nEen goed salaris, 25 vakantiedagen, laptop-, telefoon- en reiskostenvergoeding;\\nElke dag gratis uitgebreide lunch in de brasserie en (ja écht) lekkere koffie;\\nEen gezellige, informele werksfeer op een fantastische locatie. We werken vanuit Creative Valley pal naast Utrecht CS; een creative co-workingspace waar je ook goed terecht kunt voor een biertje en bitterbal. Thuiswerken is natuurlijk ook na corona prima.\\nKortom, een functie met veel vrijheid en ondernemerschap, maar ook een sparringpartner (Kim) om veel van te leren.\\nContractduur 7 maanden\\nSoort dienstverband: Fulltime, Bepaalde tijd\\nSalaris: €2.600,00 - €3.200,00 per maand\\nAanvullende betalingen:\\nCommissie\\nVakantiegeld\\nArbeidsvoorwaarden:\\nExtra vakantiedagen\\nFlexibele werkuren\\nLunchkorting\\nReiskostenvergoeding\\nTelefoonplan\\nVrijdagmiddagborrel\\nWerk vanuit huis\\nWerkschema:\\nma-vr\\nErvaring:\\nwerk: 1 jaar (Aanbevolen)\\nOpleiding:\\nBachelor (Vereist)\\nThuiswerken:\\nJa\\nVandaag\\nVacature rapporteren',\n",
       " 'Data Analist Sociale Zekerheid\\nMeer dan 30 dagen geleden\\n- Solliciteer op de werkgevers website\\nVacature rapporteren',\n",
       " 'Data Analist\\nMeer dan 30 dagen geleden\\n- Solliciteer op de werkgevers website\\nVacature rapporteren',\n",
       " 'Bij Essent analyseert de Data Analist CX de NPS data gerelateerd aan alle journeys en de merken Essent en energiedirect.nl en vertaalt deze naar concrete acties die bijdragen aan een betere klantbeleving. Hoe effectiever en efficiënter jouw analyses en rapporten zijn, hoe beter jij je werk doet. Daarnaast is het belangrijk dat medewerkers binnen Essent de klantinzichten veelvuldig gebruiken om dagelijks de juiste beslissingen te kunnen nemen om de klantbeleving te verbeteren. Feeling inspired?\\n\\nBen jij de enthousiaste analist die veel energie krijgt om onze klantbeleving op basis van NPS data te verbeteren? Verras ons dan met jouw sollicitatie op de functie van Data Analist op kantoor Den Bosch.\\n\\nJe ziet niet alleen kansen als Data Analist, je verzilvert ze in een razend tempo bij het:\\nVerzamelen, beoordelen, prepareren en analyseren van NPS data(sets) en andere relevante klantdata\\nOntwerpen, ontwikkelen, testen, inzetten en beheren van statistische analyses en onderzoeken die inzichten verschaffen met name op het gebied van het verbeteren van de klantervaring met impact op loyaliteit, cross en upsell etc.\\nMaandelijks visualiseren van de door jou opgedane data-inzichten, zodat deze bedrijf breed gedeeld kunnen worden\\nBeantwoorden van vervolgvragen over de werking en validatie van het resultaat en doen van verdiepende kwantitatieve en kwalitatieve analyses\\nDocumenteren van het tot stand komen van analyses, zodat deze altijd verder ontwikkeld kunnen worden (bijvoorbeeld om een forecast op te maken)\\nHet bouwen van beheersbare, geautomatiseerde en effectieve rapportages\\nHet informeren en enthousiasmeren van medewerkers binnen Essent om de data in te zetten om elke dag klanten een betere klantbeleving te kunnen bieden\\nJe werkt nauw samen met de CX managers en service designers in het CX team om de data om te zetten naar oplossingen voor onze klanten\\nJe hebt een groot hart voor onze (toekomstige) klanten en bent echt geïnteresseerd in hoe die klant zich gedraagt\\nJe versterkt het CX team binnen de afdeling C+ Operations. De zeven collega’s die in de functies van Data Analisten, Service Designers en een CX Manager werken, bundelen hun krachten om impact te maken en de noodzakelijke verbeteringen door te voeren om de insights te verbeteren.\\n\\nMarktleider in het leveren van energie en gas in Nederland. Een positie waar we trots op zijn. Elke dag vinden we weer slimme manieren om als één team de beste te zijn. We hebben focus, eigenaarschap en discipline. Met onze rechtdoorzee-mentaliteit weten wij miljoenen consumenten en ondernemers aan ons te binden. Niet alleen met energie en gas, ook met energie-gerelateerde producten en diensten die Nederland helpen verder te verduurzamen. Wij wachten niet tot morgen. Als onderdeel van E.ON en met onze merken Essent, energiedirect.nl, Powerhouse en VandeBron maken we impact voor onze klanten. Samen maken we betaalbare energieoplossingen bereikbaar voor iedereen.\\n\\nIn deze rol ga je specifiek werken voor het merk energiedirect.nl en Essent.\\nenergiedirect.nl is onze ‘value for money’ speler in de markt. Het is de beschermer van het Essent merk op prijs. 15 jaar geleden ontstaan vanuit het geloof dat energiezaken veel eenvoudiger kunnen; op prijs, service en duidelijkheid. Met nuchterheid zijn we de markt gaan uitdagen. Zonder omwegen. Altijd voordelig, dat is de merkessentie. Deze overtuiging is doordrenkt in onze communicatie en stuurt al ons handelen.\\nEssent is ons fullservice-kernmerk voor MKB, grootzakelijk en consumenten. Essent is helemaal thuis in energie. In slimme oplossingen om het duurzaam opwekken, leveren, delen en gebruiken van energie voor iedereen makkelijk en efficiënt te maken. Voor je comfort thuis. Of voor de continuïteit in je bedrijf. Want Essent gelooft dat hoe comfortabeler je huis of werkplek is, hoe fijner het is om daar te zijn. Daarom helpen we onze klanten hun huis of bedrijf van alle mogelijke comfort en efficiëntie te voorzien. Samen met bekende installateurs uit de buurt. Lang leve thuis. Essent.\\n\\nJe gelooft in jezelf, het team en het bedrijf. En wij? Wij belonen jou voor al het harde werk. In geld, kansen en persoonlijke groei. Omdat jij altijd het beste levert voor onze klanten bieden wij jou (o.b.v. 40 uur per week):\\nEen baan bij een leidend Europees energiebedrijf dat altijd in beweging is. We blijven groeien, ontwikkelen en innoveren\\nEen bruto maandsalaris tussen € 3.152 en € 4.902, nauwkeurig afgestemd op jouw niveau\\nEen vaste eindejaarsuitkering om onze waardering nog meer uit te spreken\\n27 vakantiedagen en 13 ADV dagen omdat je naast je werk nog andere hobby’s hebt\\nAlle faciliteiten om zowel op kantoor, als thuis en onderweg flexibel te kunnen werken\\nDe kans om te werken met onze House-in-Order Lean-methodiek\\nMomenteel werken we vanuit huis. Maar zodra het straks weer kan bieden we je een inspirerende kantooromgeving met een goede koffiebar, op loopafstand van Den Bosch CS.\\nWe raden je aan om met het openbaar vervoer te komen. Een fijne extra: je ontvangt dan een NS Business Card van ons. Liever reizen met eigen vervoer? Dan krijg je een kilometervergoeding\\nEen breed scala aan ontwikkel- en doorgroeimogelijkheden nationaal én internationaal\\n\\nDit is dé kans om als Data Analist impact te maken.\\nZie je de vacature niet meer op werkenbijessent.nl? Dan is solliciteren helaas niet meer mogelijk.\\nInterimmer of bureau? Als we jullie nodig hebben weten wij jullie wel te vinden.\\nCOVID-19: sollicitatiegesprekken vinden zoveel mogelijk online plaats.\\n27 dagen geleden\\n- Solliciteer op de werkgevers website\\nVacature rapporteren',\n",
       " 'Vraag jij je ook wel eens af hoe de apps op je telefoon nou eigenlijk werken? Ben jij de technische hulplijn van je familie? Dan schuilt er, ergens diep van binnen, een Data Analist in jou. Wij halen ‘m eruit tijdens een uniek opleidingsprogramma en learning on the job bij een vooruitstrevende organisatie. En zodra die Data Analist in jou eenmaal naar buiten is gekomen, kun je rekenen op een vaste baan en een kansrijke carrière in een vakgebied waar toekomst in zit.\\nDe roadmap van jouw carrière als Trainee Data Analist\\nTijdens de eerste maanden ‘in de schoolbanken’ word jij klaargestoomd voor de eerste werkzaamheden als Data Analist / Growth Hacker. Dat betekent toeterende oren, knarsende hersens en bergen informatie. Moeiteloos en in no-time pik jij alles op. Gewoon omdat je hard werkt, IT, online marketing en data gaaf vindt en er alles van wilt weten.\\nEn dan…?\\nDan ga je in de praktijk aan de slag als Trainee Data Analist / Growth Hacker bij PowerSlim en duik je volop in de wereld van data intelligence, digitale marketing, A/B testen en conversie-optimalisatie. Nog geen idee wat je je hierbij moet voorstellen? Geen probleem, we leggen álles aan je uit!\\nHoe werkt het?\\nAan de ene kant heb je een senior collega die je begeleidt en graag zijn bergen kennis met je deelt. Aan de andere kant heb je je coach, een (ex-)topsporter, die precies weet wat presteren inhoudt en hoe je het beste uit jezelf haalt. Samen met jouw mede-trainees vormen zij jouw leeromgeving, waarin jij een jaar lang een intensief traineeship doorloopt en alles over data-analyse leert.\\nJij verdient:\\nEen uitdagend werk- en leertraject van 14 maanden waar je zónder IT of online marketing-ervaring of opleiding mee kan starten.\\nDe mogelijkheid om opleidingen te volgen en certificaten te behalen.\\nEen mooi soft skill programma waarin jij samen met je coach het beste in jezelf naar boven haalt.\\nEen marktconform salaris dat gedurende het jaar twee keer stijgt. Naarmate jij je ontwikkelt, stijgt je salaris mee.\\nNa het traineeship een vaste baan als Data Analist / Growth Hacker, met een salaris van minimaal €2.500 op basis van 40 uur per week.\\nErvaring in data-analyse is niet nodig, wél breng je mee\\nHbo- of wo-werk- en -denkniveau en de ambitie om het data-analytics vakgebied in de vingers te krijgen. Maar dat is niet genoeg. Eigenlijk zoeken we gewoon de slimste mensen van Nederland met lef, die deze uitdaging aan durven. Die niet alleen denken, maar zeker ook doen.\\nDe data-wereld ligt aan jouw voeten\\nEn die wereld, die ga jij veroveren! Jij bent klaar om werk te maken van deze vacature. Dus klik je nú op de sollicitatiebutton.\\nNog vragen? Vraag Laura het hemd van het lijf via talent@createment.nl of via 040 287 00 70.\\n6 dagen geleden\\n- Solliciteer op de werkgevers website\\nVacature rapporteren']"
      ]
     },
     "execution_count": 32,
     "metadata": {},
     "output_type": "execute_result"
    }
   ],
   "source": [
    "# check\n",
    "descriptions"
   ]
  },
  {
   "cell_type": "markdown",
   "metadata": {},
   "source": [
    "## TO DO:\n",
    "\n",
    "- Cookies?"
   ]
  },
  {
   "cell_type": "markdown",
   "metadata": {},
   "source": [
    "# Next page button question"
   ]
  },
  {
   "cell_type": "code",
   "execution_count": null,
   "metadata": {},
   "outputs": [],
   "source": [
    "# cookie button example\n",
    "try:\n",
    "    driver.find_element_by_id('onetrust-accept-btn-handler').click()\n",
    "    time.sleep(2)\n",
    "except:\n",
    "    print('probably accepted the cookie already!')\n",
    "\n"
   ]
  },
  {
   "cell_type": "code",
   "execution_count": 86,
   "metadata": {},
   "outputs": [],
   "source": [
    "# asses webpage\n",
    "driver.get(url)"
   ]
  },
  {
   "cell_type": "code",
   "execution_count": 88,
   "metadata": {},
   "outputs": [
    {
     "name": "stdout",
     "output_type": "stream",
     "text": [
      "10\n",
      "20\n",
      "30\n",
      "40\n",
      "50\n",
      "60\n",
      "70\n",
      "80\n",
      "90\n"
     ]
    }
   ],
   "source": [
    "for i in range(1,10): \n",
    "    print(i*10)\n",
    "    # if encounter an error: break the loop"
   ]
  },
  {
   "cell_type": "code",
   "execution_count": null,
   "metadata": {},
   "outputs": [],
   "source": [
    "# code to use? there is no id\n",
    "driver.find_element_by_id('what is the id?')"
   ]
  },
  {
   "cell_type": "code",
   "execution_count": 81,
   "metadata": {},
   "outputs": [
    {
     "data": {
      "text/plain": [
       "[<selenium.webdriver.remote.webelement.WebElement (session=\"454fa2a0ccd3f492aebfa0e8f76e9e8a\", element=\"d0dce6be-87ba-4e86-9690-1eae15dd77e7\")>,\n",
       " <selenium.webdriver.remote.webelement.WebElement (session=\"454fa2a0ccd3f492aebfa0e8f76e9e8a\", element=\"a0fe6149-2952-4868-bb15-54609e1d7bd9\")>,\n",
       " <selenium.webdriver.remote.webelement.WebElement (session=\"454fa2a0ccd3f492aebfa0e8f76e9e8a\", element=\"44c715d9-f1b8-4f60-8763-6a212e1f1840\")>,\n",
       " <selenium.webdriver.remote.webelement.WebElement (session=\"454fa2a0ccd3f492aebfa0e8f76e9e8a\", element=\"796e5fb3-dda9-41c5-bc7c-717408ebddc8\")>,\n",
       " <selenium.webdriver.remote.webelement.WebElement (session=\"454fa2a0ccd3f492aebfa0e8f76e9e8a\", element=\"649ee941-5f27-46f6-8dbd-b6eb006417a4\")>]"
      ]
     },
     "execution_count": 81,
     "metadata": {},
     "output_type": "execute_result"
    }
   ],
   "source": [
    "# try with class name\n",
    "driver.find_elements_by_class_name('pn')"
   ]
  },
  {
   "cell_type": "code",
   "execution_count": 83,
   "metadata": {},
   "outputs": [],
   "source": [
    "# returns 4 list names --> clicking the first element works!\n",
    "driver.find_elements_by_class_name('pn')[0].click()"
   ]
  },
  {
   "cell_type": "code",
   "execution_count": 57,
   "metadata": {},
   "outputs": [
    {
     "data": {
      "text/plain": [
       "[]"
      ]
     },
     "execution_count": 57,
     "metadata": {},
     "output_type": "execute_result"
    }
   ],
   "source": [
    "# try with soup, but we want to use selenium\n",
    "soup.find_all(class_=\"navigation-list\")#.find(\"a\").attrs[\"href\"]"
   ]
  },
  {
   "cell_type": "code",
   "execution_count": 85,
   "metadata": {},
   "outputs": [
    {
     "data": {
      "text/plain": [
       "<selenium.webdriver.remote.webelement.WebElement (session=\"454fa2a0ccd3f492aebfa0e8f76e9e8a\", element=\"6c7ec397-9d78-4ed1-9849-8ed551f43ee8\")>"
      ]
     },
     "execution_count": 85,
     "metadata": {},
     "output_type": "execute_result"
    }
   ],
   "source": [
    "# it is in a href\n",
    "driver.find_element_by_css_selector('a')"
   ]
  },
  {
   "cell_type": "markdown",
   "metadata": {},
   "source": [
    "# double click this sentence to see the next page button html\n",
    "(There was no normal way to show it)\n",
    "\n",
    "<a href=\"/jobs?q=data+analist&amp;l=Nederland&amp;radius=50&amp;start=10&amp;pp=gQAPAAAAAAAAAAAAAAABnRxK0wAoAQAAo-lIlED1kfh4IyYgN03tNu7Los3EUHQ6rcmqJA0zJTnG9Bm5SAAA&amp;pp=gQAPAAAAAAAAAAAAAAABnRxK0wAoAQAAo-lIlED1kfh4IyYgN03tNu7Los3EUHQ6rcmqJA0zJTnG9Bm5SAAA&amp;pp=gQAPAAAAAAAAAAAAAAABnRxK0wAoAQAAo-lIlED1kfh4IyYgN03tNu7Los3EUHQ6rcmqJA0zJTnG9Bm5SAAA&amp;pp=gQAPAAAAAAAAAAAAAAABnRxK0wAoAQAAo-lIlED1kfh4IyYgN03tNu7Los3EUHQ6rcmqJA0zJTnG9Bm5SAAA\" aria-label=\"Volgende\" data-pp=\"gQAPAAAAAAAAAAAAAAABnRxK0wAoAQAAo-lIlED1kfh4IyYgN03tNu7Los3EUHQ6rcmqJA0zJTnG9Bm5SAAA\" onmousedown=\"addPPUrlParam &amp;&amp; addPPUrlParam(this);\" rel=\"nofollow\"><span class=\"pn\"><span class=\"np\"><svg width=\"24\" height=\"24\" fill=\"none\"><path d=\"M10 6L8.59 7.41 13.17 12l-4.58 4.59L10 18l6-6-6-6z\" fill=\"#2D2D2D\"></path></svg></span></span></a>"
   ]
  }
 ],
 "metadata": {
  "kernelspec": {
   "display_name": "Python 3",
   "language": "python",
   "name": "python3"
  },
  "language_info": {
   "codemirror_mode": {
    "name": "ipython",
    "version": 3
   },
   "file_extension": ".py",
   "mimetype": "text/x-python",
   "name": "python",
   "nbconvert_exporter": "python",
   "pygments_lexer": "ipython3",
   "version": "3.8.3"
  }
 },
 "nbformat": 4,
 "nbformat_minor": 4
}

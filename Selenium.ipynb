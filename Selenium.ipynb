{
 "cells": [
  {
   "cell_type": "markdown",
   "metadata": {},
   "source": [
    "## Code snippets from requests scraper:"
   ]
  },
  {
   "cell_type": "code",
   "execution_count": 1,
   "metadata": {},
   "outputs": [],
   "source": [
    "template = 'https://nl.indeed.com/jobs?q={}&l={}'"
   ]
  },
  {
   "cell_type": "code",
   "execution_count": 2,
   "metadata": {},
   "outputs": [],
   "source": [
    "def get_url(position, location):\n",
    "    \"\"\"Generate a url from position and location\"\"\"\n",
    "    template = 'https://nl.indeed.com/jobs?q={}&l={}'\n",
    "    url = template.format(position, location)\n",
    "    return url"
   ]
  },
  {
   "cell_type": "code",
   "execution_count": 3,
   "metadata": {},
   "outputs": [],
   "source": [
    "url = get_url('data analist', 'Nederland')"
   ]
  },
  {
   "cell_type": "markdown",
   "metadata": {},
   "source": [
    "## New code snippets:"
   ]
  },
  {
   "cell_type": "code",
   "execution_count": 4,
   "metadata": {},
   "outputs": [],
   "source": [
    "# import packages\n",
    "from selenium import webdriver\n",
    "import time"
   ]
  },
  {
   "cell_type": "code",
   "execution_count": 5,
   "metadata": {},
   "outputs": [],
   "source": [
    "# create driver object\n",
    "driver = webdriver.Chrome()"
   ]
  },
  {
   "cell_type": "code",
   "execution_count": 6,
   "metadata": {},
   "outputs": [],
   "source": [
    "from bs4 import BeautifulSoup\n",
    "res = driver.page_source.encode('utf-8')\n",
    "soup = BeautifulSoup(res, \"html.parser\")"
   ]
  },
  {
   "cell_type": "code",
   "execution_count": 7,
   "metadata": {},
   "outputs": [
    {
     "data": {
      "text/plain": [
       "[<selenium.webdriver.remote.webelement.WebElement (session=\"ee684b62f93fe21316aa6c97767d66ca\", element=\"0.8109331166503526-1\")>,\n",
       " <selenium.webdriver.remote.webelement.WebElement (session=\"ee684b62f93fe21316aa6c97767d66ca\", element=\"0.8109331166503526-2\")>,\n",
       " <selenium.webdriver.remote.webelement.WebElement (session=\"ee684b62f93fe21316aa6c97767d66ca\", element=\"0.8109331166503526-3\")>,\n",
       " <selenium.webdriver.remote.webelement.WebElement (session=\"ee684b62f93fe21316aa6c97767d66ca\", element=\"0.8109331166503526-4\")>,\n",
       " <selenium.webdriver.remote.webelement.WebElement (session=\"ee684b62f93fe21316aa6c97767d66ca\", element=\"0.8109331166503526-5\")>,\n",
       " <selenium.webdriver.remote.webelement.WebElement (session=\"ee684b62f93fe21316aa6c97767d66ca\", element=\"0.8109331166503526-6\")>,\n",
       " <selenium.webdriver.remote.webelement.WebElement (session=\"ee684b62f93fe21316aa6c97767d66ca\", element=\"0.8109331166503526-7\")>,\n",
       " <selenium.webdriver.remote.webelement.WebElement (session=\"ee684b62f93fe21316aa6c97767d66ca\", element=\"0.8109331166503526-8\")>,\n",
       " <selenium.webdriver.remote.webelement.WebElement (session=\"ee684b62f93fe21316aa6c97767d66ca\", element=\"0.8109331166503526-9\")>,\n",
       " <selenium.webdriver.remote.webelement.WebElement (session=\"ee684b62f93fe21316aa6c97767d66ca\", element=\"0.8109331166503526-10\")>,\n",
       " <selenium.webdriver.remote.webelement.WebElement (session=\"ee684b62f93fe21316aa6c97767d66ca\", element=\"0.8109331166503526-11\")>,\n",
       " <selenium.webdriver.remote.webelement.WebElement (session=\"ee684b62f93fe21316aa6c97767d66ca\", element=\"0.8109331166503526-12\")>,\n",
       " <selenium.webdriver.remote.webelement.WebElement (session=\"ee684b62f93fe21316aa6c97767d66ca\", element=\"0.8109331166503526-13\")>,\n",
       " <selenium.webdriver.remote.webelement.WebElement (session=\"ee684b62f93fe21316aa6c97767d66ca\", element=\"0.8109331166503526-14\")>,\n",
       " <selenium.webdriver.remote.webelement.WebElement (session=\"ee684b62f93fe21316aa6c97767d66ca\", element=\"0.8109331166503526-15\")>]"
      ]
     },
     "execution_count": 7,
     "metadata": {},
     "output_type": "execute_result"
    }
   ],
   "source": [
    "# asses webpage\n",
    "driver.get(url)\n",
    "\n",
    "# store job card links in list\n",
    "jobs = driver.find_elements_by_class_name('jobsearch-SerpJobCard')\n",
    "jobs"
   ]
  },
  {
   "cell_type": "code",
   "execution_count": 9,
   "metadata": {},
   "outputs": [],
   "source": [
    "# I put a limit for now for the for loop because it opens a new chrome page for each job\n",
    "# Note: if 'vjs-content' gives an error, try \"vjs-tab-job\" and vice versa\n",
    "# To do: try to implement try - except\n",
    "\n",
    "descriptions = []\n",
    "\n",
    "for job in jobs[:6]:\n",
    "    job.click()\n",
    "    time.sleep(1)\n",
    "    \n",
    "    # get job descriptions\n",
    "    desc = driver.find_element_by_id('vjs-content').text\n",
    "    descriptions.append(desc)\n",
    "    \n",
    "    # go to next page\n",
    "    "
   ]
  },
  {
   "cell_type": "code",
   "execution_count": 10,
   "metadata": {},
   "outputs": [
    {
     "data": {
      "text/plain": [
       "['Data Analist\\nMeer dan 30 dagen geleden\\n- Solliciteer op de werkgevers website\\nVacature rapporteren',\n",
       " 'Vraag jij je ook wel eens af hoe de apps op je telefoon nou eigenlijk werken? Ben jij de technische hulplijn van je familie? Dan schuilt er, ergens diep van binnen, een Data Analist in jou. Wij halen ‘m eruit tijdens een uniek opleidingsprogramma en learning on the job bij een vooruitstrevende organisatie. En zodra die Data Analist in jou eenmaal naar buiten is gekomen, kun je rekenen op een vaste baan en een kansrijke carrière in een vakgebied waar toekomst in zit.\\nDe roadmap van jouw carrière als Trainee Data Analist\\nTijdens de eerste maanden ‘in de schoolbanken’ word jij klaargestoomd voor de eerste werkzaamheden als Data Analist / Growth Hacker. Dat betekent toeterende oren, knarsende hersens en bergen informatie. Moeiteloos en in no-time pik jij alles op. Gewoon omdat je hard werkt, IT, online marketing en data gaaf vindt en er alles van wilt weten.\\nEn dan…?\\nDan ga je in de praktijk aan de slag als Trainee Data Analist / Growth Hacker bij PowerSlim en duik je volop in de wereld van data intelligence, digitale marketing, A/B testen en conversie-optimalisatie. Nog geen idee wat je je hierbij moet voorstellen? Geen probleem, we leggen álles aan je uit!\\nHoe werkt het?\\nAan de ene kant heb je een senior collega die je begeleidt en graag zijn bergen kennis met je deelt. Aan de andere kant heb je je coach, een (ex-)topsporter, die precies weet wat presteren inhoudt en hoe je het beste uit jezelf haalt. Samen met jouw mede-trainees vormen zij jouw leeromgeving, waarin jij een jaar lang een intensief traineeship doorloopt en alles over data-analyse leert.\\nJij verdient:\\nEen uitdagend werk- en leertraject van 14 maanden waar je zónder IT of online marketing-ervaring of opleiding mee kan starten.\\nDe mogelijkheid om opleidingen te volgen en certificaten te behalen.\\nEen mooi soft skill programma waarin jij samen met je coach het beste in jezelf naar boven haalt.\\nEen marktconform salaris dat gedurende het jaar twee keer stijgt. Naarmate jij je ontwikkelt, stijgt je salaris mee.\\nNa het traineeship een vaste baan als Data Analist / Growth Hacker, met een salaris van minimaal €2.500 op basis van 40 uur per week.\\nErvaring in data-analyse is niet nodig, wél breng je mee\\nHbo- of wo-werk- en -denkniveau en de ambitie om het data-analytics vakgebied in de vingers te krijgen. Maar dat is niet genoeg. Eigenlijk zoeken we gewoon de slimste mensen van Nederland met lef, die deze uitdaging aan durven. Die niet alleen denken, maar zeker ook doen.\\nDe data-wereld ligt aan jouw voeten\\nEn die wereld, die ga jij veroveren! Jij bent klaar om werk te maken van deze vacature. Dus klik je nú op de sollicitatiebutton.\\nNog vragen? Vraag Laura het hemd van het lijf via talent@createment.nl of via 040 287 00 70.\\n6 dagen geleden\\n- Solliciteer op de werkgevers website\\nVacature rapporteren',\n",
       " \"De energiemarkt is volop in beweging, daarom moeten we onze dienstverlening blijven aanpassen. Als Data Analist werk je binnen de afdeling Marketing en Product Management (MPM) in het expertisegebied Marketing Intelligence (MI). MI adviseert collega's met een inspirerend klantadvies op basis van onderzoek en analyse hoe de productontwikkeling en klantinteractie verder verbeterd kan worden. MI bestaat momenteel uit een data analist, web analist, marktonderzoeker en een senior marketing intelligence medewerker.\\nSamen met de MPM-collega's met expertises op het gebied van digital marketing, marketing intelligence, productmanagement, segment marketing en klantcommunicatie/contentmarketing vertegenwoordigen wij de 'stem van de klant' bij de inrichting en doorontwikkeling van excellente dienstverlening.\\n\\nFunctiebeschrijving\\n\\nAls Data Analist ben je verantwoordelijk voor het prepareren van data vanuit verschillende databronnen en deze beschikbaar te stellen om analyses mogelijk te maken. Daarnaast voer je analyses uit samen met je collega Data Analist, met wie je nauw samenwerkt. Vanuit je bevindingen adviseer je de business. Het doel hier van is om bij elke verandering die de klant raakt, een impactvol klantgericht advies te leveren.\\nHieronder een greep uit je gemiddelde werkdag als Data Analist:\\nRapporteren van kerncijfers en marktontwikkelingen;\\nUitvoeren van en zoveel mogelijk (laten) automatiseren van selecties en rapportages;\\nDatabronnen ontsluiten en aan elkaar koppelen, waarna je de data prepareert. Je werkt met de volgende bronnen: EDWH (Enexis Data-Warehouse), Marktonderzoek, websites, portals, Klantenservice, Externe databronnen (CBS etc.);\\nOverleggen met de business, om proceskennis eigen te maken. Kennis hebben van de business stelt je in staat om processen door te vertalen in data.\\nAls Data Analist ga je samen met je team aan de slag met het creëren van een integraal beeld van de beschikbare data. Jij hebt daar een cruciale rol in; het prepareren en analyseren van de data en datasets beschikbaar stellen gaat de afdeling in staat stellen om te komen tot dit integrale klantbeeld. Dit gaat resulteren in het sneller en meer fact-based doorvoeren van verbeteringen voor klanten.\\n\\nFunctie-eisen\\n\\nQua persoonlijkheid zijn we op zoek naar iemand die naast de technische knowhow, ook communicatief sterk is. Iemand die over organisatievermogen beschikt, graag multidisciplinair samenwerkt en over adviesvaardigheden beschikt. Ook nauwkeurigheid, het nemen van je verantwoordelijkheid en proactief te werk gaan zijn belangrijk in deze functie. Daarnaast zoeken we iemand die analytisch sterk is.\\nDaarnaast beschik je over minimaal 5 jaar ervaring als data analist en over de volgende kennis:\\nErvaring met het ontsluiten, koppelen en verwerken van grote datasets;\\nErvaring met het uitvoeren van kwantitatieve analyses (statistiek), het opstellen van cijfermatige rapportages, datavisualisatie en het maken van selecties;\\nUitstekende kennis van Power BI, SQL en SPSS (en/of R);\\nErvaring met web analyse is een pré.\\nWeet jij precies hoe je databronnen samenbrengt om tot relevante inzichten te komen voor een integraal klantbeeld? Dan zien wij je reactie graag tegemoet voor de functie van Data Analist!\\n\\nArbeidsvoorwaarden\\n\\nBen je al enthousiast geworden? Als sociale werkgever bieden wij je naast een goede balans tussen werk en privé, veel vrijheid en ook nog eens een aantrekkelijk arbeidsvoorwaardenpakket. Dit pakket kun je naar jouw eigen wensen inzetten. Houd jij bijvoorbeeld van verre reizen? Bij ons krijg je 24,5 vakantiedag, maar kun je in totaal nog 35,5 dag bijkopen vanuit jouw persoonlijk budget!\\nVind jij sporten of jezelf ontwikkelen een must? Je krijgt een bruto budget van €500,- per jaar voor je sportabonnement en is er budget voor het volgen van training en opleidingen.\\n\\nNog steeds enthousiast?\\nJe ontvangt een budget van 28,7% over je bruto jaarsalaris. Hierin zit o.a. je vakantiegeld, ADV en 13e maand. Dit budget is flexibel in te zetten voor bijvoorbeeld het bijkopen van extra verlof of een maandelijkse uitbetaling.\\nDeze functie is ingedeeld in klasse 15, met een inschaling tussen € 3.404,- en € 4.863,- bruto per maand, op basis van een 40-urige werkweek.\\nEen reiskostenvergoeding en een 1e klas OV-kaart, inclusief gebruik van een OV-fiets;\\nEen goede pensioenregeling en collectieve verzekeringen;\\nEen laptop en telefoon die je ook privé kunt gebruiken;\\n\\n\\nScreeningsbeleid\\nOns screeningsbeleid houdt, afhankelijk van de functie, in: het nagaan van referenties, het toetsen van de authenticiteit van cv, identiteitspapieren en diploma's en het opvragen van een verklaring omtrent gedrag (VOG). Het is vanwege veiligheidsrichtlijnen, noodzakelijk om vloeiend Nederlands te spreken, lezen en schrijven.\\n\\nBen jij de persoon die wij zoeken? Solliciteer dan nu of neem voor meer informatie contact op met Aniek Smeets (Corporate Recruiter) via aniek.smeets@enexis.nl of bel/app naar 06-27181659.\\n13 dagen geleden\\n- Solliciteer op de werkgevers website\\nVacature rapporteren\",\n",
       " 'Bedrijfsomschrijving\\nInsight First is een allround data & analytics adviesbureau. We helpen klanten om inzicht te krijgen in de belangrijkste KPI’s die hun merk laten groeien. Het begint immers bij de business. We zijn zoals je dat anno 2021 noemt ‘data translators’. We weten welke inzichten nodig zijn maar ook waar deze te vinden zijn en hoe we deze mooi weergeven in een dashboard.\\nWe werken veel voor hard groeiende online merken en zijn gespecialiseerd in Shopify & online marketingdata zoals Google Analytics, Facebook – en Google Ads. Daarnaast werken we veel met Marketplace data (Bol.com & Amazon) maar bijvoorbeeld ook voor marketing agencies waar dan weer hele andere inzichten bij komen kijken. Een greep uit onze klanten: Nuud, Veloretti, Naïf Care, First Energy Gum, NATWERK, Active Living.\\nInmiddels hebben we ca. 20 klanten onder onze hoede en zijn we hard op zoek naar uitbreiding! Momenteel werken we met een klein team bestaande uit Kim, Jelle en een aantal slimme ZZP’ers met elk hun eigen expertise. We werken en lunchen dagelijks samen met de teams van start-ups Created First en Nuud vanuit de fantastische co-working space Creative Valley pal naast Utrecht centraal. Hoewel we dus een klein team zijn, ontbreekt het nooit aan gezelligheid!\\nVacaturetekst\\nWat ga je doen?\\nJe bouwt dashboards en doet analyses van begin tot eind. Dat wil zeggen:\\nJe koppelt de benodigde databronnen met behulp van onze standaard toolkit (geen coderen)\\nJe organiseert en structureert data uit diverse systemen en verbindt deze in 1 datamodel door middel van SQL\\nJe analyseert deze data en bedenkt welke inzichten de klant nodig heeft, bijvoorbeeld verkochte producten per categorie, of online uitgaves afgezet tegen de omzet\\nJe bouwt een strak dashboard waar al deze data in samenkomt\\nJe wordt verantwoordelijk voor een aantal eigen klanten. Voor deze klanten beheer jij de dashboards, voer je gesprekken over uitbreiding hiervan en doe je eenmalige analyses.\\nJe bent in staat de klant te adviseren over welke inzichten toegevoegd kunnen worden en bent echt een sparringspartner voor de klant. Vaak hebben onze klanten geen eigen data analist in dienst dus is je contactpersoon bij de klant de CFO, CEO of E-commerce\\nmanager.\\nJe werkt nauw samen met Kim en Jelle en onze freelancers voor ondersteuning.\\nWe werken in de Google stack d.w.z. veel met Google Sheets; Google BigQuery (datawarehouse) & Google Data Studio (dashboarding). Daarnaast gebruiken we Supermetrics, Stitch en python scripts i.c.m. Google Cloud voor het ontsluiten van de data, en DBT voor modelleren.\\nWie ben jij / wat heb jij:\\nAfgeronde WO master opleiding;\\nJe werkt zelfstandig en bent oplossingsgericht. Google kent voor jou geen geheimen en youtube tutorials en stackoverflow are life;\\nJe houdt van puzzelen en wilt elke dag iets nieuws leren;\\nJouw vrienden of collega’s komen voor al hun excel vragen naar jou toe;\\nJe kunt minimaal een LEFT JOIN in SQL;\\n1 á 2 jaar werkervaring is een pré;\\nErvaring met dashboarding tools is een pré (Google Data Studio, PowerBI);\\nJe bent beschikbaar voor minimaal 32 uur per week;\\nJe kunt Nederlands spreken & schrijven.\\nWat bieden wij?\\nEen uitdagende functie met veel verantwoordelijkheid en afwisseling;\\nVeel ruimte voor ondernemerschap en eigen inbreng;\\nWerken voor gave merken en met een brede variëteit aan datasets (versus 1 groot bedrijf waar je steeds met dezelfde data werkt);\\nEen goed salaris, 25 vakantiedagen, laptop-, telefoon- en reiskostenvergoeding;\\nElke dag gratis uitgebreide lunch in de brasserie en (ja écht) lekkere koffie;\\nEen gezellige, informele werksfeer op een fantastische locatie. We werken vanuit Creative Valley pal naast Utrecht CS; een creative co-workingspace waar je ook goed terecht kunt voor een biertje en bitterbal. Thuiswerken is natuurlijk ook na corona prima.\\nKortom, een functie met veel vrijheid en ondernemerschap, maar ook een sparringpartner (Kim) om veel van te leren.\\nContractduur 7 maanden\\nSoort dienstverband: Fulltime, Bepaalde tijd\\nSalaris: €2.600,00 - €3.200,00 per maand\\nAanvullende betalingen:\\nCommissie\\nVakantiegeld\\nArbeidsvoorwaarden:\\nExtra vakantiedagen\\nFlexibele werkuren\\nLunchkorting\\nReiskostenvergoeding\\nTelefoonplan\\nVrijdagmiddagborrel\\nWerk vanuit huis\\nWerkschema:\\nma-vr\\nErvaring:\\nwerk: 1 jaar (Aanbevolen)\\nOpleiding:\\nBachelor (Vereist)\\nThuiswerken:\\nJa\\nVandaag\\nVacature rapporteren',\n",
       " 'Rotom is groeiende! Zie jij het als de ultieme uitdaging om samen met een ambitieus team te bouwen aan de beste en snelst groeiende webshop van Europa? Raak jij enthousiast van programma’s zoals Tag Manager, Search Console en heeft Google geen geheimen voor jou dan is dit dé baan voor jou, lees snel verder!\\nAls CRO / marketing data analist word je onderdeel van een jong en dynamisch team met daarin drie directe collega’s en een teamleider. Je houdt je bezig met het inzichtelijk maken van data en schetst een duidelijk beeld van het gedrag van zowel de klant als de markt. Je werkt bedreven met data als grow specialist samen met de andere teamleden. Jij zorgt ervoor dat de verzamelde online output geïnterpreteerd wordt naar input voor de teamleider e-commerce. Op basis van deze data en bevindingen stel je rapportages op, waar het hele marketingteam gebruik van maakt. Je bent voor Rotom de specialist die internationaal data driven analyses maakt die ingezet worden voor het verbeteren van alle online platformen van Rotom Europe.\\nNaast deze uitvoerende werkzaamheden wordt van je verwacht dat je meedenkt op strategisch vlak waardoor het werkproces van de afdeling en organisatie verbeterd kan worden in Europa. Aangezien er op internationale schaal gewerkt wordt, ben jij de aangewezen persoon om op dit gebied groeimogelijkheden te spotten en uit te werken. Jouw bevindingen spelen een belangrijke rol in het marketing plan. Je gaat gestructureerd te werk zodat het marketing team met jouw data-input en kritische blik op de concurrentie op allerlei vlakken optimalisaties kan doorvoeren.\\nVerder bestaat jouw takenpakket uit:\\nJe analyseert de verschillende digitale platformen en voorziet het team van inzichten;\\nJe analyseert de (gepersonaliseerde) (digitale) customer journeys, brengt obstakels in kaart en stelt verbeterplannen op;\\nEnd-to-end meten en analyseren van (e-)campagnes, automation flows en customer journeys en het opstellen van aanbevelingen;\\nInzetten van zowel kwantitatieve als kwalitatieve onderzoeken en tests;\\nJe analyseert de klantfeedback en brengt de wensen en knelpunten in kaart.\\nWat vragen wij van jou?\\nJe rapporteert aan de teamleider e-commerce;\\nHBO / WO werk- en denkniveau;\\nAltijd alles tot in de puntjes willen analyseren;\\nGestructureerd, secuur en nauwkeurig werken;\\nExcel heeft geen geheimen meer voor je;\\nUitstekende beheersing van Nederlands en Engels in woord en geschrift;\\nJe hebt ruime ervaring en raakt enthousiast van werken met diverse tools van Google: Analytics (enhanced e-commerce), Data studio, Search Console, Tag Manager;\\nMinimaal 2 jaar ervaring met het maken van data-analyses;\\nKennis van Hotjar, Datatrics, en Microsoft Dynamics AX is een pré.\\nWie zijn wij?\\nRotom Europe is een toonaangevende internationale aanbieder van ladingdragers voor de supply chain actief in 10 Europese landen met de hoofdvestiging in Son. Onze ambitie is het faciliteren en verbeteren van de supply chain van onze klanten door de juiste inzet van ladingdragers en het bieden van duurzame services en oplossingen waaronder verhuur, pooling en packaging recovery.\\nDagelijks zijn 500 enthousiaste medewerkers werkzaam, de groepsomzet is meer dan € 125 MLN per jaar.\\nOnze kernwaarden zijn: kwaliteit, betrouwbaarheid, flexibiliteit en oplossingsgericht denken.\\nWat bieden wij?\\nEen salaris afgestemd op de kennis en kunde die jij meebrengt;\\nEen telefoon en laptop van de zaak;\\nVeel verantwoordelijkheid vanaf dag 1;\\nEen functie binnen een jong en informeel team in een sterk groeiende internationale organisatie;\\nEen platte organisatie waarin een idee van vandaag morgen uitgevoerd kan worden;\\nVeel ruimte voor eigen inbreng en mogelijkheden tot zelfontwikkeling;\\nEen oplossingsgerichte organisatie met een no-nonsense, laagdrempelige bedrijfscultuur.\\nWil jij een interdisciplinaire rol waarbij je bruggen slaat tussen diverse afdelingen? Stuur dan jouw korte motivatie en CV naar Eline van der Linden per email. Of neem voor meer informatie contact op via telefoonnummer 0499 - 491012.\\nSoort dienstverband: Fulltime\\nAanvullende betalingen:\\nBonusregeling\\nVakantiegeld\\nArbeidsvoorwaarden:\\nExtra vakantiedagen\\nFietsplan\\nPensioen\\nReiskostenvergoeding\\nWerkschema:\\nma-vr\\n10 dagen geleden\\nVacature rapporteren',\n",
       " 'In ons domein, de wereld van schadeverzekeringen, is er heel veel data en die data is ook nog eens heel tastbaar. Jij weet de complexe data als geen ander te vertalen naar informatie in de vorm van datasets en dashboards. Zo garandeer je flexibiliteit en snelheid voor gebruikers. Tegelijkertijd werk je samen met diverse collega’s binnen Schade & Inkomen om het datalandschap voor Particulieren Schade naar een hoger niveau te tillen.\\nDeze Data Analist vacature biedt je een salaris van maximaal € 5.095 per maand o.b.v. 36 uur.\\nJouw impact als Data Analist bij NN\\nZoals jij de data naar informatie vertaalt, zo biedt je Particulieren Schade vanuit een slimme centrale bron sturing op sales, marketing, product management, pricing, finance, enz. Om tot waarheidsgetrouwe data te komen, initieer en coördineer jij diverse trajecten met jouw datacollega’s binnen Schade & Inkomen, creëer je gebruiksvriendelijke views en bouw je datakwaliteitscontroles in op de data. De data waarmee je werkt, heeft alles te maken met verzekeringen van de labels van Particulieren Schade, zoals polissen, schades, klanten, contactinformatie en informatie over de objecten die we verzekeren.\\nBen jij onze nieuwe data analist? Als data analist bij het team Pricing en Data bij Particulieren Schade ben je verantwoordelijk voor het ontwikkelen, analyseren en rapporteren over alle datastromen binnen ons bedrijf. Samen met andere collega’s in je team verzorg je de analyses en dashboards waarmee we het bedrijf de goede kant op kunnen sturen en onze producten zo scherp mogelijk kunnen prijzen.\\nIn deze functie word je key speler binnen ons bedrijf, en dit is precies waarom je impact kunt maken!\\nWat je gaat doen\\nVoor Particulieren Schade ben jij de sparringspartner die de business-teams helpt om meer waarde te halen uit data\\nSamen met je collega’s binnen Pricing & Data zorg je voor datasets waarmee de portefeuilles beter gestuurd kunnen worden (pricing, product);Jij maakt Inzichtelijke en gebruiksvriendelijke dashboards, waarmee gebruikers dagelijkse sturing kunnen uitvoeren\\nDeelnemen aan ontwikkeling van nieuwe analyses en (door) ontwikkeling van nieuwe dashboards\\nVertalen van data naar informatie en adviezen\\nToepassen van nieuwe analyse technieken\\nMet wie je werkt\\nJe gaat samenwerken met ongeveer 15 collega’s in het Pricing & Data-team van de afdeling Particulieren Schade. Dit team beschikt over de kennis en expertise van actuarissen, data scientists en data analisten. Binnen dit team ben je verantwoordelijk voor de datasets, analyses en monitors van alle producten binnen Particulieren Schade van de labels NN Verzekeren, ING Verzekeren en SNS Verzekeren. In een nauwe samenwerking met de productmanagers van deze labels zorgt het Pricing & Data team ervoor dat we kort op de bal kunnen spelen in de markt.\\nWat je meebrengt\\nJe bent hands-on ingesteld, houdt van analyseren en stopt niet totdat je alle antwoorden hebt gevonden. Je bent kritisch op de data en draagt actief bij aan het hoog houden van de kwaliteitsstandaard. Je kan je analyses in duidelijke taal uitleggen aan stakeholders en je collega experts van de afdeling waar je onderdeel vanuit maakt; Jij bent de verbindende schakel tussen de ruwe data en de stakeholders die hiermee sturen en werkt veel samen met verschillende afdelingen. Aanvullend breng je mee:\\nAfgeronde WO opleiding zoals Informatie Management, Data Analytics of gelijkwaardig\\nRuime ervaring met (Oracle) SQL en kennis van verschillende DB structuren\\nJe bent een expert in jouw vakgebied en brengt productkennis mee van Particulieren Schade-producten\\nJe bent in staat om activiteiten te initiëren, coördineren en collega’s daarin ook mee te krijgen. Drive om nieuwe dingen te leren en te ontdekken. Enthousiaste en leergierige werkhouding, waarbij jíj dat stapje extra zet bij analyses\\nEnergie om samen te werken en met andere professionals tot uitvoering te komen, maar bovenal ben jij een echte teamplayer\\nBlijf je ontwikkelen\\nWij vinden het belangrijk dat jij je kunt blijven ontwikkelen. We geven je de ruimte en het vertrouwen om te groeien in je carrière en als mens. Wij helpen je hierbij met:\\nVolop training- en opleidingsmogelijkheden in ons Learning & Development Centre\\nEen groot (internationaal) netwerk van collega’s die graag hun kennis met je delen\\nDe autonomie om je eigen ontwikkelroute te bepalen\\nOver NN\\nWij helpen mensen zorgen voor wat zij echt belangrijk vinden. De wereld waarin we leven mag dan veranderen, wat er echt toe doet voor mensen, blijft hetzelfde. Familie, vrienden, liefde, gezondheid, thuis en werk natuurlijk ook. Met jouw inzet maken we onze dienstverlening persoonlijker en relevanter. Zo kunnen we als organisatie echt het verschil maken vanuit al onze merken: Nationale-Nederlanden, NN Investment Partners, ABN AMRO Verzekeringen, Movir, AZL, BeFrank, Zicht en OHRA.\\nArbeidsvoorwaarden die bij jou passen\\nJij bent meer dan alleen een collega en dat snappen we bij NN heel goed. Je hebt verschillende rollen in het leven en daar horen keuzes bij. Wij stellen jou in staat arbeidsvoorwaarden te kiezen die voor jou belangrijk zijn en aansluiten bij jouw privésituatie. Denk aan het bijkopen van vakantiedagen en flexibele werktijden. Je vakantiegeld en 13de maand ontvang je maandelijks bij je salaris, daar hoef je niet op te wachten.\\nVanwege het coronavirus werken alle NN collega’s op dit moment volledig digitaal en vanuit huis. Het is op dit moment ook nog niet duidelijk wanneer we weer op kantoor kunnen werken. De officiële standplaats voor deze functie is Den Haag.\\nWord jij onze nieuwe collega?\\nBen jij enthousiast over deze vacature en denk je dat je goed past in het team en bij NN? Dan nodigen wij je uit om te solliciteren. Wij zijn erg benieuwd naar wie jij bent, wat jou beweegt en wat jij kunt bijdragen in deze functie bij NN.\\nSolliciteer direct!\\nHeb je nog vragen over de vacature of de procedure? Bel of stel je vraag via WhatsApp aan Michael Dop, (Sr Manager Pricing & Data Particulieren Schade) via 06-53989765 of Roland Quakkelaar (Business Intelligence Specialist) via 06-51761543 of Jordi Spijker (Recruiter) via 06-215 875 92 of Jordi.Spijker@nn.nl\\nHet gaat hier om een permanente positie. Een kandidaat ontvangt een contract van NN en we staan niet open voor interim/freelance opdrachten en/of kandidaten of acquisitie door bureaus. Alvast bedankt voor uw begrip.\\nZojuist geplaatst\\n- Solliciteer op de werkgevers website\\nVacature rapporteren']"
      ]
     },
     "execution_count": 10,
     "metadata": {},
     "output_type": "execute_result"
    }
   ],
   "source": [
    "# check\n",
    "descriptions"
   ]
  },
  {
   "cell_type": "markdown",
   "metadata": {},
   "source": [
    "## TO DO:\n",
    "\n",
    "- Cookies?"
   ]
  },
  {
   "cell_type": "code",
   "execution_count": 11,
   "metadata": {},
   "outputs": [
    {
     "data": {
      "text/plain": [
       "[]"
      ]
     },
     "execution_count": 11,
     "metadata": {},
     "output_type": "execute_result"
    }
   ],
   "source": [
    "soup.find_all(class_=\"navigation-list\")#.find(\"a\").attrs[\"href\"]"
   ]
  },
  {
   "cell_type": "code",
   "execution_count": 12,
   "metadata": {},
   "outputs": [
    {
     "data": {
      "text/plain": [
       "<selenium.webdriver.remote.webelement.WebElement (session=\"ee684b62f93fe21316aa6c97767d66ca\", element=\"0.8109331166503526-22\")>"
      ]
     },
     "execution_count": 12,
     "metadata": {},
     "output_type": "execute_result"
    }
   ],
   "source": [
    "driver.find_element_by_css_selector('a')"
   ]
  },
  {
   "cell_type": "markdown",
   "metadata": {},
   "source": [
    "# double click this sentence to see the next page button html\n",
    "(There was no normal way to show it)\n",
    "\n",
    "<a href=\"/jobs?q=data+analist&amp;l=Nederland&amp;radius=50&amp;start=10&amp;pp=gQAPAAAAAAAAAAAAAAABnRxK0wAoAQAAo-lIlED1kfh4IyYgN03tNu7Los3EUHQ6rcmqJA0zJTnG9Bm5SAAA&amp;pp=gQAPAAAAAAAAAAAAAAABnRxK0wAoAQAAo-lIlED1kfh4IyYgN03tNu7Los3EUHQ6rcmqJA0zJTnG9Bm5SAAA&amp;pp=gQAPAAAAAAAAAAAAAAABnRxK0wAoAQAAo-lIlED1kfh4IyYgN03tNu7Los3EUHQ6rcmqJA0zJTnG9Bm5SAAA&amp;pp=gQAPAAAAAAAAAAAAAAABnRxK0wAoAQAAo-lIlED1kfh4IyYgN03tNu7Los3EUHQ6rcmqJA0zJTnG9Bm5SAAA\" aria-label=\"Volgende\" data-pp=\"gQAPAAAAAAAAAAAAAAABnRxK0wAoAQAAo-lIlED1kfh4IyYgN03tNu7Los3EUHQ6rcmqJA0zJTnG9Bm5SAAA\" onmousedown=\"addPPUrlParam &amp;&amp; addPPUrlParam(this);\" rel=\"nofollow\"><span class=\"pn\"><span class=\"np\"><svg width=\"24\" height=\"24\" fill=\"none\"><path d=\"M10 6L8.59 7.41 13.17 12l-4.58 4.59L10 18l6-6-6-6z\" fill=\"#2D2D2D\"></path></svg></span></span></a>"
   ]
  }
 ],
 "metadata": {
  "kernelspec": {
   "display_name": "Python 3",
   "language": "python",
   "name": "python3"
  },
  "language_info": {
   "codemirror_mode": {
    "name": "ipython",
    "version": 3
   },
   "file_extension": ".py",
   "mimetype": "text/x-python",
   "name": "python",
   "nbconvert_exporter": "python",
   "pygments_lexer": "ipython3",
   "version": "3.8.5"
  }
 },
 "nbformat": 4,
 "nbformat_minor": 4
}

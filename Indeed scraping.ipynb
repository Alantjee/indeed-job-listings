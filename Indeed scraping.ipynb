{
 "cells": [
  {
   "cell_type": "markdown",
   "metadata": {},
   "source": [
    "## Indeed webscraping"
   ]
  },
  {
   "cell_type": "code",
   "execution_count": 1,
   "metadata": {},
   "outputs": [],
   "source": [
    "import requests\n",
    "from bs4 import BeautifulSoup\n",
    "from datetime import datetime\n",
    "import pandas as pd"
   ]
  },
  {
   "cell_type": "markdown",
   "metadata": {},
   "source": [
    "Delete the job text and location in the url and replace it with curly braces.\n",
    "Create a string template that you'll use to create whatever job position or location that you want."
   ]
  },
  {
   "cell_type": "code",
   "execution_count": 2,
   "metadata": {},
   "outputs": [],
   "source": [
    "template = 'https://nl.indeed.com/jobs?q={}&l={}'"
   ]
  },
  {
   "cell_type": "markdown",
   "metadata": {},
   "source": [
    "Create a function called get_url, with the arguments of position and location. Then move the template variable inside this function."
   ]
  },
  {
   "cell_type": "code",
   "execution_count": 3,
   "metadata": {},
   "outputs": [],
   "source": [
    "def get_url(position, location):\n",
    "    \"\"\"Generate a url from position and location\"\"\"\n",
    "    template = 'https://nl.indeed.com/jobs?q={}&l={}'\n",
    "    url = template.format(position, location)\n",
    "    return url"
   ]
  },
  {
   "cell_type": "code",
   "execution_count": 4,
   "metadata": {},
   "outputs": [],
   "source": [
    "url = get_url('data analist', 'Nederland')"
   ]
  },
  {
   "cell_type": "markdown",
   "metadata": {},
   "source": [
    "### Extract raw html"
   ]
  },
  {
   "cell_type": "code",
   "execution_count": 5,
   "metadata": {},
   "outputs": [],
   "source": [
    "response = requests.get(url)"
   ]
  },
  {
   "cell_type": "markdown",
   "metadata": {},
   "source": [
    "Extract the raw html from the response object, then parse this with Beautifulsoup."
   ]
  },
  {
   "cell_type": "code",
   "execution_count": 6,
   "metadata": {},
   "outputs": [],
   "source": [
    "soup = BeautifulSoup(response.text, 'html.parser')"
   ]
  },
  {
   "cell_type": "markdown",
   "metadata": {},
   "source": [
    "Find the html tag that incloses the entire record: 'jobsearch-SerpJobCard'"
   ]
  },
  {
   "cell_type": "code",
   "execution_count": 7,
   "metadata": {},
   "outputs": [],
   "source": [
    "cards = soup.find_all('div', 'jobsearch-SerpJobCard')"
   ]
  },
  {
   "cell_type": "markdown",
   "metadata": {},
   "source": [
    "Check the number of job postings on the page."
   ]
  },
  {
   "cell_type": "code",
   "execution_count": 8,
   "metadata": {},
   "outputs": [
    {
     "data": {
      "text/plain": [
       "15"
      ]
     },
     "execution_count": 8,
     "metadata": {},
     "output_type": "execute_result"
    }
   ],
   "source": [
    "len(cards)"
   ]
  },
  {
   "cell_type": "markdown",
   "metadata": {},
   "source": [
    "### Prototype the model with a single record"
   ]
  },
  {
   "cell_type": "code",
   "execution_count": 9,
   "metadata": {},
   "outputs": [],
   "source": [
    "card = cards[0]"
   ]
  },
  {
   "cell_type": "code",
   "execution_count": 10,
   "metadata": {},
   "outputs": [],
   "source": [
    "atag = card.h2.a"
   ]
  },
  {
   "cell_type": "code",
   "execution_count": 11,
   "metadata": {},
   "outputs": [
    {
     "data": {
      "text/plain": [
       "'Data Analist'"
      ]
     },
     "execution_count": 11,
     "metadata": {},
     "output_type": "execute_result"
    }
   ],
   "source": [
    "job_title = atag.get('title')\n",
    "job_title"
   ]
  },
  {
   "cell_type": "code",
   "execution_count": 12,
   "metadata": {},
   "outputs": [
    {
     "data": {
      "text/plain": [
       "'https://nl.indeed.com/pagead/clk?mo=r&ad=-6NYlbfkN0BUr1ih89J8xlxnhfvrvaSPyfeHEUaTmnzB_AydzFDKnIiZ_IebOX6YnjJSMiF7dRLn9puMMVtEjWmhzpOVn_3hDp8cIFVXzTAYKweJColTCEpTwGwYCi6oDI3fy3ehYQTqneslOaS-XtBKDfnTdVm9teqlM0UWNpg0kzVTij43bHAQsqWOyNjZ9I4Hfz6ZH1d9Qvco994O8Qcr2Sj1x1EpK8HGgGmOa9G4PSlRuqmopAdgr3zKz8uUxoucgi3zhngecKCxaqE-hzSalAkn80lE5rIJLQTSF5yA9fMVraexT9vjZraYfJ_UmaDP_lNatuplUNC3oMcKMrGx2jJGXhobZW0gtzhKb0PkqNC_7Pzg_R3Co5wzFYNMgU5chSxNjVF3MGT3qdMRbcUePwXDGBVTzxM9MiN6O2DydCdSljasyQIWD39AZjkoR3turiNXb2wOBJWqoUDLt-04Ohjxtvd4dc7DKEaiXeKILMS90lhaSX3FlnwYbTE7pgHe7EhE-nGi_4nI_FuJwWbNp6jxrkQo64mTfF8T-ci4Wmjkm98BWr2xObt6eh4CqAPu14rP0ZMTdDqLVBtysYZKvwQDZ62Kllx1nNrOhXFYIHqZbWH2qQ3NK_wRF247f902Nejxb60=&p=0&fvj=0&vjs=3'"
      ]
     },
     "execution_count": 12,
     "metadata": {},
     "output_type": "execute_result"
    }
   ],
   "source": [
    "job_url = 'https://nl.indeed.com' + atag.get('href')\n",
    "job_url"
   ]
  },
  {
   "cell_type": "code",
   "execution_count": 13,
   "metadata": {},
   "outputs": [
    {
     "data": {
      "text/plain": [
       "'Aon'"
      ]
     },
     "execution_count": 13,
     "metadata": {},
     "output_type": "execute_result"
    }
   ],
   "source": [
    "company = card.find('span', 'company').text.strip()\n",
    "company"
   ]
  },
  {
   "cell_type": "code",
   "execution_count": 14,
   "metadata": {},
   "outputs": [
    {
     "data": {
      "text/plain": [
       "'Eindhoven'"
      ]
     },
     "execution_count": 14,
     "metadata": {},
     "output_type": "execute_result"
    }
   ],
   "source": [
    "job_location = card.find('div', 'recJobLoc').get('data-rc-loc')\n",
    "job_location"
   ]
  },
  {
   "cell_type": "code",
   "execution_count": 15,
   "metadata": {},
   "outputs": [
    {
     "data": {
      "text/plain": [
       "'Verzamelen van data uit zowel interne als externe bronnen (UWV, CPB, CBS).\\nUitvoeren van analyses aan de hand van data, referentie-onderzoeken, gesprekken en…'"
      ]
     },
     "execution_count": 15,
     "metadata": {},
     "output_type": "execute_result"
    }
   ],
   "source": [
    "job_summary = card.find('div', 'summary').text.strip()\n",
    "job_summary"
   ]
  },
  {
   "cell_type": "code",
   "execution_count": 16,
   "metadata": {},
   "outputs": [
    {
     "data": {
      "text/plain": [
       "'Meer dan 30 dagen geleden'"
      ]
     },
     "execution_count": 16,
     "metadata": {},
     "output_type": "execute_result"
    }
   ],
   "source": [
    "post_date = card.find('span', 'date').text\n",
    "post_date"
   ]
  },
  {
   "cell_type": "markdown",
   "metadata": {},
   "source": [
    "Also grab the current date, so that you have something to compare to the relative data you get from the job posting."
   ]
  },
  {
   "cell_type": "code",
   "execution_count": 17,
   "metadata": {},
   "outputs": [
    {
     "data": {
      "text/plain": [
       "'2021-03-13'"
      ]
     },
     "execution_count": 17,
     "metadata": {},
     "output_type": "execute_result"
    }
   ],
   "source": [
    "today = datetime.today().strftime('%Y-%m-%d')\n",
    "today"
   ]
  },
  {
   "cell_type": "markdown",
   "metadata": {},
   "source": [
    "The salary range is not available for all job postings."
   ]
  },
  {
   "cell_type": "code",
   "execution_count": 18,
   "metadata": {},
   "outputs": [
    {
     "data": {
      "text/plain": [
       "'€2.600 - €3.500 per maand'"
      ]
     },
     "execution_count": 18,
     "metadata": {},
     "output_type": "execute_result"
    }
   ],
   "source": [
    "try:\n",
    "    job_salary = card.find('span', 'salaryText').text.strip()\n",
    "except AttributeError:\n",
    "    job_salary = ''\n",
    "    \n",
    "job_salary"
   ]
  },
  {
   "cell_type": "code",
   "execution_count": null,
   "metadata": {},
   "outputs": [],
   "source": [
    "card = cards[0]\n",
    "id = card.find('div', 'recJobLoc').get('id').split('_')[1]\n",
    "id"
   ]
  },
  {
   "cell_type": "markdown",
   "metadata": {},
   "source": [
    "### Generalize the model with a function"
   ]
  },
  {
   "cell_type": "markdown",
   "metadata": {},
   "source": [
    "Create a function called get_record, which will accept a single argument card.\n",
    "Include the code created into this function."
   ]
  },
  {
   "cell_type": "code",
   "execution_count": null,
   "metadata": {},
   "outputs": [],
   "source": [
    "def get_record(card):\n",
    "    \"\"\"Extract job data from a single record\"\"\"\n",
    "    id = card.find('div', 'recJobLoc').get('id').split('_')[1]\n",
    "    atag = card.h2.a\n",
    "    job_title = atag.get('title')\n",
    "    job_url = 'https://nl.indeed.com' + atag.get('href')\n",
    "    company = card.find('span', 'company').text.strip()\n",
    "    job_location = card.find('div', 'recJobLoc').get('data-rc-loc')\n",
    "    job_summary = card.find('div', 'summary').text.strip()\n",
    "    post_date = card.find('span', 'date').text\n",
    "    today = datetime.today().strftime('%Y-%m-%d')\n",
    "    try:\n",
    "        job_salary = card.find('span', 'salaryText').text.strip()\n",
    "    except AttributeError:\n",
    "        job_salary = ''\n",
    "        \n",
    "    record = {'id':id, 'title':title, 'company':company, 'location':location,\n",
    "              'postingdate':postingdate, 'today':today, 'summary':summary,\n",
    "              'salary':salary, 'url':url}\n",
    "    \n",
    "    return record"
   ]
  },
  {
   "cell_type": "markdown",
   "metadata": {},
   "source": [
    "Create a list called records. Then, iterate through each card, extracting the record from the card data and then appending that extracted data to the records list."
   ]
  },
  {
   "cell_type": "code",
   "execution_count": null,
   "metadata": {},
   "outputs": [],
   "source": [
    "records = []\n",
    "\n",
    "for card in cards:\n",
    "    record = get_record(card)\n",
    "    records.append(record)"
   ]
  },
  {
   "cell_type": "markdown",
   "metadata": {},
   "source": [
    "Check out a few items in the records list."
   ]
  },
  {
   "cell_type": "code",
   "execution_count": null,
   "metadata": {},
   "outputs": [],
   "source": [
    "records[0]"
   ]
  },
  {
   "cell_type": "markdown",
   "metadata": {},
   "source": [
    "### Getting the next page"
   ]
  },
  {
   "cell_type": "markdown",
   "metadata": {},
   "source": [
    "- Go to the page and click right to inspect the chevron.\n",
    "- If the program can't find the tag it will return an AttributeError\n",
    "- Create a while loop that continues to run until this url returns an AttributeError, at which point break out of the loop\n",
    "- While being in the loop, execute all of the code you've written up to this point"
   ]
  },
  {
   "cell_type": "code",
   "execution_count": null,
   "metadata": {},
   "outputs": [],
   "source": [
    "while True:\n",
    "    try:\n",
    "        url = 'https://nl.indeed.com' + soup.find('a',{'aria-label': 'Volgende'}).get('href')\n",
    "    except AttributeError:\n",
    "        break\n",
    "    \n",
    "    response = requests.get(url)\n",
    "    soup = BeautifulSoup(response.text, 'html.parser')\n",
    "    cards = soup.find_all('div', 'jobsearch-SerpJobCard')\n",
    "    \n",
    "    for card in cards:\n",
    "        record = get_record(card)\n",
    "        records.append(record)"
   ]
  },
  {
   "cell_type": "code",
   "execution_count": null,
   "metadata": {},
   "outputs": [],
   "source": [
    "len(records)"
   ]
  },
  {
   "cell_type": "code",
   "execution_count": null,
   "metadata": {},
   "outputs": [],
   "source": [
    "# create dataframe\n",
    "listings_df = pd.DataFrame(records, columns=['Title', 'Company', 'Location', 'Date', 'Scrape Date', 'Summary', 'Salary', 'Url'])\n",
    "\n",
    "# check if works\n",
    "listings_df.head()"
   ]
  },
  {
   "cell_type": "code",
   "execution_count": null,
   "metadata": {},
   "outputs": [],
   "source": [
    "# export dataframe to csv\n",
    "listings_df.to_csv('listings2.csv')"
   ]
  },
  {
   "cell_type": "markdown",
   "metadata": {},
   "source": [
    "# TO DO:\n",
    "\n",
    "- Add ratings?\n",
    "\n",
    "- Check for job skills (e.g. create list with different programming languages and count how often they appear)\n",
    "\n",
    "- Job urls not working?"
   ]
  }
 ],
 "metadata": {
  "kernelspec": {
   "display_name": "Python 3",
   "language": "python",
   "name": "python3"
  },
  "language_info": {
   "codemirror_mode": {
    "name": "ipython",
    "version": 3
   },
   "file_extension": ".py",
   "mimetype": "text/x-python",
   "name": "python",
   "nbconvert_exporter": "python",
   "pygments_lexer": "ipython3",
   "version": "3.8.5"
  }
 },
 "nbformat": 4,
 "nbformat_minor": 4
}

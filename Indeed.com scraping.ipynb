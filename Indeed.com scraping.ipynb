{
 "cells": [
  {
   "cell_type": "markdown",
   "metadata": {},
   "source": [
    "# Indeed.com scraping"
   ]
  },
  {
   "cell_type": "code",
   "execution_count": null,
   "metadata": {},
   "outputs": [],
   "source": [
    "# import packages\n",
    "import requests\n",
    "from bs4 import BeautifulSoup\n",
    "from datetime import datetime\n",
    "import pandas as pd\n",
    "from selenium import webdriver\n",
    "import time"
   ]
  },
  {
   "cell_type": "code",
   "execution_count": null,
   "metadata": {},
   "outputs": [],
   "source": [
    "base_url = 'https://nl.indeed.com/jobs?q={}&l={}&start='\n",
    "\n",
    "def get_url(position, location):\n",
    "    \"\"\"Generate a url from position and location\"\"\"\n",
    "    base_url = 'https://nl.indeed.com/jobs?q={}&l={}&start='\n",
    "    url = base_url.format(position, location)\n",
    "    return url\n",
    "\n",
    "# choose job position and location\n",
    "url = get_url('data analist', 'Nederland')\n",
    "\n",
    "# create driver object\n",
    "driver = webdriver.Chrome()\n",
    "time.sleep(10)"
   ]
  },
  {
   "cell_type": "code",
   "execution_count": null,
   "metadata": {},
   "outputs": [],
   "source": [
    "# asses webpage\n",
    "driver.get(url)\n",
    "time.sleep(5)"
   ]
  },
  {
   "cell_type": "code",
   "execution_count": null,
   "metadata": {},
   "outputs": [],
   "source": [
    "# accept cookies, if applicable\n",
    "try:\n",
    "    driver.find_element_by_id('onetrust-accept-btn-handler').click()\n",
    "    time.sleep(2)\n",
    "except:\n",
    "    print('probably accepted the cookie already!')\n",
    "\n",
    "    \n",
    "res = driver.page_source.encode('utf-8')\n",
    "soup = BeautifulSoup(res, \"html.parser\")\n",
    "\n",
    "# store job card links in list\n",
    "jobs = driver.find_elements_by_class_name('jobsearch-SerpJobCard')"
   ]
  },
  {
   "cell_type": "code",
   "execution_count": null,
   "metadata": {},
   "outputs": [],
   "source": [
    "cards = soup.find_all('div', 'jobsearch-SerpJobCard')\n",
    "\n",
    "def get_record(card):\n",
    "    \"\"\"Extract job data from a single record\"\"\"\n",
    "    id = card.find('div', 'recJobLoc').get('id').split('_')[1]\n",
    "    atag = card.h2.a\n",
    "    title = atag.get('title')\n",
    "    url = 'https://nl.indeed.com' + atag.get('href')\n",
    "    company = card.find('span', 'company').text.strip()\n",
    "    location = card.find('div', 'recJobLoc').get('data-rc-loc')\n",
    "    summary = card.find('div', 'summary').text.strip()\n",
    "    postingdate = card.find('span', 'date').text\n",
    "    today = datetime.today().strftime('%Y-%m-%d')\n",
    "    try:\n",
    "        salary = card.find('span', 'salaryText').text.strip()\n",
    "    except AttributeError:\n",
    "        salary = ''\n",
    "        \n",
    "    record = {'id':id, 'title':title, 'company':company, 'location':location,\n",
    "              'postingdate':postingdate, 'today':today, 'summary':summary,\n",
    "              'salary':salary, 'url':url}\n",
    "    \n",
    "    return record\n",
    "\n",
    "#Create records list; iterate through each card, extracting the record data; append data to the records list\n",
    "records = []\n",
    "\n",
    "while True:\n",
    "    try:\n",
    "        url = 'https://nl.indeed.com' + soup.find('a',{'aria-label': 'Volgende'}).get('href')\n",
    "    except AttributeError:\n",
    "        break\n",
    "    \n",
    "    response = requests.get(url)\n",
    "    soup = BeautifulSoup(response.text, 'html.parser')\n",
    "    cards = soup.find_all('div', 'jobsearch-SerpJobCard')\n",
    "    \n",
    "    for card in cards:\n",
    "        record = get_record(card)\n",
    "        records.append(record)\n",
    "\n",
    "# create data frame\n",
    "cols = list(records[0].keys())\n",
    "\n",
    "postings_df = pd.DataFrame(columns=cols)\n",
    "for record in records:\n",
    "    postings_df = postings_df.append(record, ignore_index=True)\n",
    "    \n",
    "# export data frame to csv\n",
    "postings_df.to_csv('postings.csv')"
   ]
  },
  {
   "cell_type": "code",
   "execution_count": null,
   "metadata": {},
   "outputs": [],
   "source": [
    "len(records)"
   ]
  },
  {
   "cell_type": "code",
   "execution_count": null,
   "metadata": {},
   "outputs": [],
   "source": [
    "# use Selenium to collect the job descriptions from each job page\n",
    "\n",
    "descriptions = []\n",
    "scrapetimesdescriptions = []\n",
    "\n",
    "# set a lower and upper bound for scraping descriptions, based on len(records),\n",
    "# as the page will not load anymore at some point due to Captcha\n",
    "    \n",
    "start = 0\n",
    "end = 100\n",
    "jobids2 = postings_df['id'][start:end]\n",
    "\n",
    "for jobid in jobids2:\n",
    "    driver.get('https://nl.indeed.com/vacature-bekijken?jk='+jobid)\n",
    "    scrapetimesdescriptions.append(datetime.now().strftime(\"%Y-%m-%d %H:%M:%S\"))\n",
    "    time.sleep(3)\n",
    "    try:\n",
    "        descriptions.append(driver.find_element_by_id('jobDescriptionText').text.replace('\\n',' '))\n",
    "    except:\n",
    "        descriptions.append('')\n",
    "\n",
    "#create data frame\n",
    "descriptions = pd.DataFrame(index=jobids2, data={'description':descriptions, 'scrapetimedescription':scrapetimesdescriptions})\n",
    "\n",
    "# export data frame to csv\n",
    "descriptions.to_csv('descriptions_{}_{}.csv'.format(str(start), str(end)))"
   ]
  }
 ],
 "metadata": {
  "kernelspec": {
   "display_name": "Python 3",
   "language": "python",
   "name": "python3"
  },
  "language_info": {
   "codemirror_mode": {
    "name": "ipython",
    "version": 3
   },
   "file_extension": ".py",
   "mimetype": "text/x-python",
   "name": "python",
   "nbconvert_exporter": "python",
   "pygments_lexer": "ipython3",
   "version": "3.8.5"
  }
 },
 "nbformat": 4,
 "nbformat_minor": 4
}
